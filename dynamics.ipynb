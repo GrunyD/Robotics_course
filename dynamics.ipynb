{
 "cells": [
  {
   "cell_type": "code",
   "execution_count": 1,
   "metadata": {},
   "outputs": [],
   "source": [
    "%load_ext autoreload\n",
    "%autoreload 2\n",
    "from sympy import *\n",
    "import numpy as np\n",
    "from robot_arms import *\n",
    "import matplotlib.pyplot as plt"
   ]
  },
  {
   "cell_type": "code",
   "execution_count": 2,
   "metadata": {},
   "outputs": [],
   "source": [
    "q1, q2, q3, q4 = symbols('q1 q2 q3 q4')\n",
    "I1xx, I1yy, I1zz = symbols('I_{1xx}, I_{1yy} I_{1zz}')\n",
    "I2xx, I2yy, I2zz = symbols('I_{2xx}, I_{2yy} I_{2zz}')\n",
    "I3xx, I3yy, I3zz = symbols('I_{3xx}, I_{3yy} I_{3zz}')\n",
    "I4xx, I4yy, I4zz = symbols('I_{4xx}, I_{4yy} I_{4zz}')\n",
    "l1, l2, l3, l4 = symbols('L1 L2 L3 L4')\n",
    "lc1, lc2, lc3, lc4 = symbols('L_{c1} L_{c2} L_{c3} L_{C4}')\n",
    "theta = symbols('theta')\n"
   ]
  },
  {
   "cell_type": "code",
   "execution_count": 3,
   "metadata": {},
   "outputs": [
    {
     "data": {
      "text/latex": [
       "$\\displaystyle I_{1xx}$"
      ],
      "text/plain": [
       "I_{1xx}"
      ]
     },
     "execution_count": 3,
     "metadata": {},
     "output_type": "execute_result"
    }
   ],
   "source": [
    "I1xx"
   ]
  },
  {
   "cell_type": "markdown",
   "metadata": {},
   "source": [
    "# D1"
   ]
  },
  {
   "cell_type": "code",
   "execution_count": 4,
   "metadata": {},
   "outputs": [
    {
     "data": {
      "text/latex": [
       "$\\displaystyle \\left[\\begin{matrix}I_{1yy} & 0 & 0 & 0\\\\0 & 0 & 0 & 0\\\\0 & 0 & 0 & 0\\\\0 & 0 & 0 & 0\\end{matrix}\\right]$"
      ],
      "text/plain": [
       "Matrix([\n",
       "[I_{1yy}, 0, 0, 0],\n",
       "[      0, 0, 0, 0],\n",
       "[      0, 0, 0, 0],\n",
       "[      0, 0, 0, 0]])"
      ]
     },
     "execution_count": 4,
     "metadata": {},
     "output_type": "execute_result"
    }
   ],
   "source": [
    "D1 = Matrix(((I1yy, 0, 0, 0),\n",
    "             (0, 0, 0, 0),\n",
    "             (0, 0, 0, 0),\n",
    "             (0, 0, 0, 0)))\n",
    "D1"
   ]
  },
  {
   "cell_type": "code",
   "execution_count": 5,
   "metadata": {},
   "outputs": [
    {
     "data": {
      "text/latex": [
       "$\\displaystyle \\left[\\begin{matrix}\\cos{\\left(q_{1} \\right)} & 0 & \\sin{\\left(q_{1} \\right)}\\\\\\sin{\\left(q_{1} \\right)} & 0 & - \\cos{\\left(q_{1} \\right)}\\\\0 & 1 & 0\\end{matrix}\\right]$"
      ],
      "text/plain": [
       "Matrix([\n",
       "[cos(q1), 0,  sin(q1)],\n",
       "[sin(q1), 0, -cos(q1)],\n",
       "[      0, 1,        0]])"
      ]
     },
     "execution_count": 5,
     "metadata": {},
     "output_type": "execute_result"
    }
   ],
   "source": [
    "R01 = Matrix(((cos(q1), 0, sin(q1)),\n",
    "              (sin(q1), 0, -cos(q1)),\n",
    "              (0, 1, 0)))\n",
    "R01"
   ]
  },
  {
   "cell_type": "code",
   "execution_count": 6,
   "metadata": {},
   "outputs": [
    {
     "data": {
      "text/latex": [
       "$\\displaystyle \\left[\\begin{matrix}\\sin{\\left(q_{1} \\right)}\\\\- \\cos{\\left(q_{1} \\right)}\\\\0\\end{matrix}\\right]$"
      ],
      "text/plain": [
       "Matrix([\n",
       "[ sin(q1)],\n",
       "[-cos(q1)],\n",
       "[       0]])"
      ]
     },
     "execution_count": 6,
     "metadata": {},
     "output_type": "execute_result"
    }
   ],
   "source": [
    "z0 = Matrix((0,0,1))\n",
    "z1 = Matrix((sin(q1), -cos(q1), 0))\n",
    "z1"
   ]
  },
  {
   "cell_type": "markdown",
   "metadata": {},
   "source": [
    "# D2"
   ]
  },
  {
   "cell_type": "code",
   "execution_count": 7,
   "metadata": {},
   "outputs": [],
   "source": [
    "I2 = Matrix(((I2xx,0,0),\n",
    "             (0,I2yy, 0),\n",
    "             (0,0,I2zz)))"
   ]
  },
  {
   "cell_type": "code",
   "execution_count": 48,
   "metadata": {},
   "outputs": [
    {
     "data": {
      "text/latex": [
       "$\\displaystyle \\left[\\begin{matrix}- \\sin{\\left(q_{2} \\right)} \\cos{\\left(q_{1} \\right)} & - \\cos{\\left(q_{1} \\right)} \\cos{\\left(q_{2} \\right)} & \\sin{\\left(q_{1} \\right)}\\\\- \\sin{\\left(q_{1} \\right)} \\sin{\\left(q_{2} \\right)} & - \\sin{\\left(q_{1} \\right)} \\cos{\\left(q_{2} \\right)} & - \\cos{\\left(q_{1} \\right)}\\\\\\cos{\\left(q_{2} \\right)} & - \\sin{\\left(q_{2} \\right)} & 0\\end{matrix}\\right]$"
      ],
      "text/plain": [
       "Matrix([\n",
       "[-sin(q2)*cos(q1), -cos(q1)*cos(q2),  sin(q1)],\n",
       "[-sin(q1)*sin(q2), -sin(q1)*cos(q2), -cos(q1)],\n",
       "[         cos(q2),         -sin(q2),        0]])"
      ]
     },
     "execution_count": 48,
     "metadata": {},
     "output_type": "execute_result"
    }
   ],
   "source": [
    "R2 = Matrix(((-cos(q1) * sin(q2), -cos(q1)*cos(q2), sin(q1)),\n",
    "             (-sin(q1)*sin(q2), -sin(q1)*cos(q2), -cos(q1)),\n",
    "             (cos(q2), -sin(q2), 0)))\n",
    "R2"
   ]
  },
  {
   "cell_type": "code",
   "execution_count": 9,
   "metadata": {},
   "outputs": [
    {
     "data": {
      "text/latex": [
       "$\\displaystyle \\left[\\begin{matrix}0 & \\sin{\\left(q_{1} \\right)} & 0 & 0\\\\0 & - \\cos{\\left(q_{1} \\right)} & 0 & 0\\\\1 & 0 & 0 & 0\\end{matrix}\\right]$"
      ],
      "text/plain": [
       "Matrix([\n",
       "[0,  sin(q1), 0, 0],\n",
       "[0, -cos(q1), 0, 0],\n",
       "[1,        0, 0, 0]])"
      ]
     },
     "execution_count": 9,
     "metadata": {},
     "output_type": "execute_result"
    }
   ],
   "source": [
    "J2w = Matrix(((0, sin(q1), 0, 0),\n",
    "              (0, -cos(q1), 0, 0),\n",
    "              (1, 0, 0, 0)))\n",
    "J2w"
   ]
  },
  {
   "cell_type": "code",
   "execution_count": 10,
   "metadata": {},
   "outputs": [
    {
     "data": {
      "text/latex": [
       "$\\displaystyle \\left[\\begin{matrix}I_{2xx} \\cos^{2}{\\left(q_{2} \\right)} + I_{2yy} \\sin^{2}{\\left(q_{2} \\right)} & - \\left(- I_{2xx} \\sin{\\left(q_{1} \\right)} \\sin{\\left(q_{2} \\right)} \\cos{\\left(q_{2} \\right)} + I_{2yy} \\sin{\\left(q_{1} \\right)} \\sin{\\left(q_{2} \\right)} \\cos{\\left(q_{2} \\right)}\\right) \\cos{\\left(q_{1} \\right)} + \\left(- I_{2xx} \\sin{\\left(q_{2} \\right)} \\cos{\\left(q_{1} \\right)} \\cos{\\left(q_{2} \\right)} + I_{2yy} \\sin{\\left(q_{2} \\right)} \\cos{\\left(q_{1} \\right)} \\cos{\\left(q_{2} \\right)}\\right) \\sin{\\left(q_{1} \\right)} & 0 & 0\\\\0 & I_{2zz} \\left(\\sin^{2}{\\left(q_{1} \\right)} + \\cos^{2}{\\left(q_{1} \\right)}\\right) \\sin^{2}{\\left(q_{1} \\right)} + I_{2zz} \\left(\\sin^{2}{\\left(q_{1} \\right)} + \\cos^{2}{\\left(q_{1} \\right)}\\right) \\cos^{2}{\\left(q_{1} \\right)} & 0 & 0\\\\0 & 0 & 0 & 0\\\\0 & 0 & 0 & 0\\end{matrix}\\right]$"
      ],
      "text/plain": [
       "Matrix([\n",
       "[I_{2xx}*cos(q2)**2 + I_{2yy}*sin(q2)**2, -(-I_{2xx}*sin(q1)*sin(q2)*cos(q2) + I_{2yy}*sin(q1)*sin(q2)*cos(q2))*cos(q1) + (-I_{2xx}*sin(q2)*cos(q1)*cos(q2) + I_{2yy}*sin(q2)*cos(q1)*cos(q2))*sin(q1), 0, 0],\n",
       "[                                      0,                                                                  I_{2zz}*(sin(q1)**2 + cos(q1)**2)*sin(q1)**2 + I_{2zz}*(sin(q1)**2 + cos(q1)**2)*cos(q1)**2, 0, 0],\n",
       "[                                      0,                                                                                                                                                            0, 0, 0],\n",
       "[                                      0,                                                                                                                                                            0, 0, 0]])"
      ]
     },
     "execution_count": 10,
     "metadata": {},
     "output_type": "execute_result"
    }
   ],
   "source": [
    "D2w = J2w.T * R2 * I2 * R2.T * J2w\n",
    "D2w"
   ]
  },
  {
   "cell_type": "code",
   "execution_count": 11,
   "metadata": {},
   "outputs": [
    {
     "data": {
      "text/latex": [
       "$\\displaystyle \\left[\\begin{matrix}0\\\\0\\\\L_{1} - 0.02\\end{matrix}\\right]$"
      ],
      "text/plain": [
       "Matrix([\n",
       "[        0],\n",
       "[        0],\n",
       "[L1 - 0.02]])"
      ]
     },
     "execution_count": 11,
     "metadata": {},
     "output_type": "execute_result"
    }
   ],
   "source": [
    "c1 =  Matrix((0,0,l1 -0.020))\n",
    "c1"
   ]
  },
  {
   "cell_type": "code",
   "execution_count": 12,
   "metadata": {},
   "outputs": [
    {
     "data": {
      "text/latex": [
       "$\\displaystyle \\left[\\begin{matrix}- \\sin{\\left(q_{2} \\right)} \\cos{\\left(q_{1} \\right)}\\\\- \\sin{\\left(q_{1} \\right)} \\sin{\\left(q_{2} \\right)}\\\\\\cos{\\left(q_{2} \\right)}\\end{matrix}\\right]$"
      ],
      "text/plain": [
       "Matrix([\n",
       "[-sin(q2)*cos(q1)],\n",
       "[-sin(q1)*sin(q2)],\n",
       "[         cos(q2)]])"
      ]
     },
     "execution_count": 12,
     "metadata": {},
     "output_type": "execute_result"
    }
   ],
   "source": [
    "c21 = Matrix((-cos(q1) * sin(q2), -sin(q1)*sin(q2), cos(q2))) # c2 from o1 position for cleaner computation, only direction, has to be multiplied by link lenght\n",
    "c21"
   ]
  },
  {
   "cell_type": "code",
   "execution_count": 13,
   "metadata": {},
   "outputs": [],
   "source": [
    "zeros = Matrix((0,0,0))"
   ]
  },
  {
   "cell_type": "code",
   "execution_count": 14,
   "metadata": {},
   "outputs": [
    {
     "data": {
      "text/latex": [
       "$\\displaystyle \\left[\\begin{matrix}L_{c2} \\sin{\\left(q_{1} \\right)} \\sin{\\left(q_{2} \\right)} & - L_{c2} \\cos{\\left(q_{1} \\right)} \\cos{\\left(q_{2} \\right)} & 0 & 0\\\\- L_{c2} \\sin{\\left(q_{2} \\right)} \\cos{\\left(q_{1} \\right)} & - L_{c2} \\sin{\\left(q_{1} \\right)} \\cos{\\left(q_{2} \\right)} & 0 & 0\\\\0 & - L_{c2} \\sin{\\left(q_{2} \\right)} & 0 & 0\\end{matrix}\\right]$"
      ],
      "text/plain": [
       "Matrix([\n",
       "[ L_{c2}*sin(q1)*sin(q2), -L_{c2}*cos(q1)*cos(q2), 0, 0],\n",
       "[-L_{c2}*sin(q2)*cos(q1), -L_{c2}*sin(q1)*cos(q2), 0, 0],\n",
       "[                      0,         -L_{c2}*sin(q2), 0, 0]])"
      ]
     },
     "execution_count": 14,
     "metadata": {},
     "output_type": "execute_result"
    }
   ],
   "source": [
    "Jv2 = simplify(Matrix.hstack(z0.cross(lc2*c21 + z0*l1), z1.cross(lc2*c21), zeros, zeros))\n",
    "Jv2"
   ]
  },
  {
   "cell_type": "code",
   "execution_count": 15,
   "metadata": {},
   "outputs": [
    {
     "data": {
      "text/latex": [
       "$\\displaystyle \\left[\\begin{matrix}0.08 L_{c2}^{2} \\sin^{2}{\\left(q_{1} \\right)} \\sin^{2}{\\left(q_{2} \\right)} + 0.08 L_{c2}^{2} \\sin^{2}{\\left(q_{2} \\right)} \\cos^{2}{\\left(q_{1} \\right)} & 0 & 0 & 0\\\\0 & 0.08 L_{c2}^{2} \\sin^{2}{\\left(q_{1} \\right)} \\cos^{2}{\\left(q_{2} \\right)} + 0.08 L_{c2}^{2} \\sin^{2}{\\left(q_{2} \\right)} + 0.08 L_{c2}^{2} \\cos^{2}{\\left(q_{1} \\right)} \\cos^{2}{\\left(q_{2} \\right)} & 0 & 0\\\\0 & 0 & 0 & 0\\\\0 & 0 & 0 & 0\\end{matrix}\\right]$"
      ],
      "text/plain": [
       "Matrix([\n",
       "[0.08*L_{c2}**2*sin(q1)**2*sin(q2)**2 + 0.08*L_{c2}**2*sin(q2)**2*cos(q1)**2,                                                                                                       0, 0, 0],\n",
       "[                                                                          0, 0.08*L_{c2}**2*sin(q1)**2*cos(q2)**2 + 0.08*L_{c2}**2*sin(q2)**2 + 0.08*L_{c2}**2*cos(q1)**2*cos(q2)**2, 0, 0],\n",
       "[                                                                          0,                                                                                                       0, 0, 0],\n",
       "[                                                                          0,                                                                                                       0, 0, 0]])"
      ]
     },
     "execution_count": 15,
     "metadata": {},
     "output_type": "execute_result"
    }
   ],
   "source": [
    "D2v = 0.08*Jv2.T *  Jv2\n",
    "D2v"
   ]
  },
  {
   "cell_type": "code",
   "execution_count": 16,
   "metadata": {},
   "outputs": [
    {
     "data": {
      "text/latex": [
       "$\\displaystyle \\left[\\begin{matrix}- 1.0 I_{2xx} \\sin^{2}{\\left(q_{2} \\right)} + 1.0 I_{2xx} + 1.0 I_{2yy} \\sin^{2}{\\left(q_{2} \\right)} + 0.08 L_{c2}^{2} \\sin^{2}{\\left(q_{2} \\right)} & 0 & 0 & 0\\\\0 & 1.0 I_{2zz} + 0.08 L_{c2}^{2} & 0 & 0\\\\0 & 0 & 0 & 0\\\\0 & 0 & 0 & 0\\end{matrix}\\right]$"
      ],
      "text/plain": [
       "Matrix([\n",
       "[-1.0*I_{2xx}*sin(q2)**2 + 1.0*I_{2xx} + 1.0*I_{2yy}*sin(q2)**2 + 0.08*L_{c2}**2*sin(q2)**2,                            0, 0, 0],\n",
       "[                                                                                         0, 1.0*I_{2zz} + 0.08*L_{c2}**2, 0, 0],\n",
       "[                                                                                         0,                            0, 0, 0],\n",
       "[                                                                                         0,                            0, 0, 0]])"
      ]
     },
     "execution_count": 16,
     "metadata": {},
     "output_type": "execute_result"
    }
   ],
   "source": [
    "D2 = simplify(D2v + D2w)\n",
    "D2"
   ]
  },
  {
   "cell_type": "markdown",
   "metadata": {},
   "source": [
    "# D3"
   ]
  },
  {
   "cell_type": "code",
   "execution_count": 17,
   "metadata": {},
   "outputs": [
    {
     "data": {
      "text/latex": [
       "$\\displaystyle \\left[\\begin{matrix}I_{2xx} & 0 & 0\\\\0 & I_{2yy} & 0\\\\0 & 0 & I_{2zz}\\end{matrix}\\right]$"
      ],
      "text/plain": [
       "Matrix([\n",
       "[I_{2xx},       0,       0],\n",
       "[      0, I_{2yy},       0],\n",
       "[      0,       0, I_{2zz}]])"
      ]
     },
     "execution_count": 17,
     "metadata": {},
     "output_type": "execute_result"
    }
   ],
   "source": [
    "I3 = Matrix(((I2xx, 0, 0),\n",
    "             (0, I2yy, 0),\n",
    "             (0, 0, I2zz)))\n",
    "I3"
   ]
  },
  {
   "cell_type": "code",
   "execution_count": 18,
   "metadata": {},
   "outputs": [
    {
     "data": {
      "text/latex": [
       "$\\displaystyle \\left[\\begin{matrix}- \\sin{\\left(q_{2} + q_{3} \\right)} \\cos{\\left(q_{1} \\right)} & - \\cos{\\left(q_{1} \\right)} \\cos{\\left(q_{2} + q_{3} \\right)} & \\sin{\\left(q_{1} \\right)}\\\\- \\sin{\\left(q_{1} \\right)} \\sin{\\left(q_{2} + q_{3} \\right)} & - \\sin{\\left(q_{1} \\right)} \\cos{\\left(q_{2} + q_{3} \\right)} & \\cos{\\left(q_{1} \\right)}\\\\\\cos{\\left(q_{2} + q_{3} \\right)} & - \\sin{\\left(q_{2} + q_{3} \\right)} & 0\\end{matrix}\\right]$"
      ],
      "text/plain": [
       "Matrix([\n",
       "[-sin(q2 + q3)*cos(q1), -cos(q1)*cos(q2 + q3), sin(q1)],\n",
       "[-sin(q1)*sin(q2 + q3), -sin(q1)*cos(q2 + q3), cos(q1)],\n",
       "[         cos(q2 + q3),         -sin(q2 + q3),       0]])"
      ]
     },
     "execution_count": 18,
     "metadata": {},
     "output_type": "execute_result"
    }
   ],
   "source": [
    "R3 = Matrix(((-cos(q1) * sin(q2 + q3), -cos(q1)*cos(q2 + q3), sin(q1)),\n",
    "             (-sin(q1)*sin(q2 + q3), -sin(q1)*cos(q2 + q3), cos(q1)),\n",
    "             (cos(q2 + q3), -sin(q2 + q3), 0)))\n",
    "R3"
   ]
  },
  {
   "cell_type": "code",
   "execution_count": 19,
   "metadata": {},
   "outputs": [
    {
     "data": {
      "text/latex": [
       "$\\displaystyle \\left[\\begin{matrix}0 & \\sin{\\left(q_{1} \\right)} & \\sin{\\left(q_{1} \\right)} & 0\\\\0 & - \\cos{\\left(q_{1} \\right)} & - \\cos{\\left(q_{1} \\right)} & 0\\\\1 & 0 & 0 & 0\\end{matrix}\\right]$"
      ],
      "text/plain": [
       "Matrix([\n",
       "[0,  sin(q1),  sin(q1), 0],\n",
       "[0, -cos(q1), -cos(q1), 0],\n",
       "[1,        0,        0, 0]])"
      ]
     },
     "execution_count": 19,
     "metadata": {},
     "output_type": "execute_result"
    }
   ],
   "source": [
    "J3w = Matrix.hstack(z0, z1, z1, zeros)\n",
    "J3w"
   ]
  },
  {
   "cell_type": "code",
   "execution_count": 20,
   "metadata": {},
   "outputs": [
    {
     "data": {
      "text/latex": [
       "$\\displaystyle \\left[\\begin{matrix}- \\sin{\\left(q_{2} + q_{3} \\right)} \\cos{\\left(q_{1} \\right)}\\\\- \\sin{\\left(q_{1} \\right)} \\sin{\\left(q_{2} + q_{3} \\right)}\\\\\\cos{\\left(q_{2} + q_{3} \\right)}\\end{matrix}\\right]$"
      ],
      "text/plain": [
       "Matrix([\n",
       "[-sin(q2 + q3)*cos(q1)],\n",
       "[-sin(q1)*sin(q2 + q3)],\n",
       "[         cos(q2 + q3)]])"
      ]
     },
     "execution_count": 20,
     "metadata": {},
     "output_type": "execute_result"
    }
   ],
   "source": [
    "c32 = Matrix((-cos(q1) * sin(q2 + q3), -sin(q1)*sin(q2+q3), cos(q2 + q3)))\n",
    "c32"
   ]
  },
  {
   "cell_type": "code",
   "execution_count": 50,
   "metadata": {},
   "outputs": [
    {
     "data": {
      "text/latex": [
       "$\\displaystyle \\left[\\begin{matrix}- L_{2} \\sin{\\left(q_{2} \\right)} \\cos{\\left(q_{1} \\right)} - L_{c3} \\sin{\\left(q_{2} + q_{3} \\right)} \\cos{\\left(q_{1} \\right)}\\\\- L_{2} \\sin{\\left(q_{1} \\right)} \\sin{\\left(q_{2} \\right)} - L_{c3} \\sin{\\left(q_{1} \\right)} \\sin{\\left(q_{2} + q_{3} \\right)}\\\\L_{1} + L_{2} \\cos{\\left(q_{2} \\right)} + L_{c3} \\cos{\\left(q_{2} + q_{3} \\right)}\\end{matrix}\\right]$"
      ],
      "text/plain": [
       "Matrix([\n",
       "[-L2*sin(q2)*cos(q1) - L_{c3}*sin(q2 + q3)*cos(q1)],\n",
       "[-L2*sin(q1)*sin(q2) - L_{c3}*sin(q1)*sin(q2 + q3)],\n",
       "[            L1 + L2*cos(q2) + L_{c3}*cos(q2 + q3)]])"
      ]
     },
     "execution_count": 50,
     "metadata": {},
     "output_type": "execute_result"
    }
   ],
   "source": [
    "a = lc3*c32 + l2*c21 + l1*z0\n",
    "a"
   ]
  },
  {
   "cell_type": "code",
   "execution_count": 51,
   "metadata": {},
   "outputs": [
    {
     "data": {
      "text/latex": [
       "$\\displaystyle \\left[\\begin{matrix}\\left(L_{2} \\sin{\\left(q_{2} \\right)} + L_{c3} \\sin{\\left(q_{2} + q_{3} \\right)}\\right) \\sin{\\left(q_{1} \\right)} & - \\left(L_{2} \\cos{\\left(q_{2} \\right)} + L_{c3} \\cos{\\left(q_{2} + q_{3} \\right)}\\right) \\cos{\\left(q_{1} \\right)} & - L_{c3} \\cos{\\left(q_{1} \\right)} \\cos{\\left(q_{2} + q_{3} \\right)} & 0\\\\- \\left(L_{2} \\sin{\\left(q_{2} \\right)} + L_{c3} \\sin{\\left(q_{2} + q_{3} \\right)}\\right) \\cos{\\left(q_{1} \\right)} & - \\left(L_{2} \\cos{\\left(q_{2} \\right)} + L_{c3} \\cos{\\left(q_{2} + q_{3} \\right)}\\right) \\sin{\\left(q_{1} \\right)} & - L_{c3} \\sin{\\left(q_{1} \\right)} \\cos{\\left(q_{2} + q_{3} \\right)} & 0\\\\0 & - L_{2} \\sin{\\left(q_{2} \\right)} - L_{c3} \\sin{\\left(q_{2} + q_{3} \\right)} & - L_{c3} \\sin{\\left(q_{2} + q_{3} \\right)} & 0\\end{matrix}\\right]$"
      ],
      "text/plain": [
       "Matrix([\n",
       "[ (L2*sin(q2) + L_{c3}*sin(q2 + q3))*sin(q1), -(L2*cos(q2) + L_{c3}*cos(q2 + q3))*cos(q1), -L_{c3}*cos(q1)*cos(q2 + q3), 0],\n",
       "[-(L2*sin(q2) + L_{c3}*sin(q2 + q3))*cos(q1), -(L2*cos(q2) + L_{c3}*cos(q2 + q3))*sin(q1), -L_{c3}*sin(q1)*cos(q2 + q3), 0],\n",
       "[                                          0,           -L2*sin(q2) - L_{c3}*sin(q2 + q3),         -L_{c3}*sin(q2 + q3), 0]])"
      ]
     },
     "execution_count": 51,
     "metadata": {},
     "output_type": "execute_result"
    }
   ],
   "source": [
    "J3v = Matrix.hstack(z0.cross(lc3*c32 + l2*c21 + l1*z0), z1.cross(lc3*c32 + l2*c21), z1.cross(lc3 * c32), zeros)\n",
    "J3v = simplify(J3v)\n",
    "J3v"
   ]
  },
  {
   "cell_type": "code",
   "execution_count": 22,
   "metadata": {},
   "outputs": [
    {
     "data": {
      "text/latex": [
       "$\\displaystyle \\left[\\begin{matrix}I_{2xx} \\cos^{2}{\\left(q_{2} + q_{3} \\right)} + I_{2yy} \\sin^{2}{\\left(q_{2} + q_{3} \\right)} + 0.08 \\left(L_{2} \\sin{\\left(q_{2} \\right)} + L_{c3} \\sin{\\left(q_{2} + q_{3} \\right)}\\right)^{2} \\sin^{2}{\\left(q_{1} \\right)} + 0.08 \\left(L_{2} \\sin{\\left(q_{2} \\right)} + L_{c3} \\sin{\\left(q_{2} + q_{3} \\right)}\\right)^{2} \\cos^{2}{\\left(q_{1} \\right)} & 0 & 0 & 0\\\\0 & 4.0 I_{2zz} \\sin^{4}{\\left(q_{1} \\right)} - 4.0 I_{2zz} \\sin^{2}{\\left(q_{1} \\right)} + 1.0 I_{2zz} + 0.08 L_{2}^{2} + 0.16 L_{2} L_{c3} \\cos{\\left(q_{3} \\right)} + 0.08 L_{c3}^{2} & 4.0 I_{2zz} \\sin^{4}{\\left(q_{1} \\right)} - 4.0 I_{2zz} \\sin^{2}{\\left(q_{1} \\right)} + 1.0 I_{2zz} + 0.08 L_{2} L_{c3} \\cos{\\left(q_{3} \\right)} + 0.08 L_{c3}^{2} & 0\\\\0 & 4.0 I_{2zz} \\sin^{4}{\\left(q_{1} \\right)} - 4.0 I_{2zz} \\sin^{2}{\\left(q_{1} \\right)} + 1.0 I_{2zz} + 0.08 L_{2} L_{c3} \\cos{\\left(q_{3} \\right)} + 0.08 L_{c3}^{2} & 4.0 I_{2zz} \\sin^{4}{\\left(q_{1} \\right)} - 4.0 I_{2zz} \\sin^{2}{\\left(q_{1} \\right)} + 1.0 I_{2zz} + 0.08 L_{c3}^{2} & 0\\\\0 & 0 & 0 & 0\\end{matrix}\\right]$"
      ],
      "text/plain": [
       "Matrix([\n",
       "[I_{2xx}*cos(q2 + q3)**2 + I_{2yy}*sin(q2 + q3)**2 + 0.08*(L2*sin(q2) + L_{c3}*sin(q2 + q3))**2*sin(q1)**2 + 0.08*(L2*sin(q2) + L_{c3}*sin(q2 + q3))**2*cos(q1)**2,                                                                                                                    0,                                                                                                       0, 0],\n",
       "[                                                                                                                                                                0, 4.0*I_{2zz}*sin(q1)**4 - 4.0*I_{2zz}*sin(q1)**2 + 1.0*I_{2zz} + 0.08*L2**2 + 0.16*L2*L_{c3}*cos(q3) + 0.08*L_{c3}**2, 4.0*I_{2zz}*sin(q1)**4 - 4.0*I_{2zz}*sin(q1)**2 + 1.0*I_{2zz} + 0.08*L2*L_{c3}*cos(q3) + 0.08*L_{c3}**2, 0],\n",
       "[                                                                                                                                                                0,              4.0*I_{2zz}*sin(q1)**4 - 4.0*I_{2zz}*sin(q1)**2 + 1.0*I_{2zz} + 0.08*L2*L_{c3}*cos(q3) + 0.08*L_{c3}**2,                          4.0*I_{2zz}*sin(q1)**4 - 4.0*I_{2zz}*sin(q1)**2 + 1.0*I_{2zz} + 0.08*L_{c3}**2, 0],\n",
       "[                                                                                                                                                                0,                                                                                                                    0,                                                                                                       0, 0]])"
      ]
     },
     "execution_count": 22,
     "metadata": {},
     "output_type": "execute_result"
    }
   ],
   "source": [
    "D3 = simplify(0.08* J3v.T *J3v + J3w.T * R3 * I3 * R3.T * J3w)\n",
    "D3"
   ]
  },
  {
   "cell_type": "markdown",
   "metadata": {},
   "source": [
    "# D4"
   ]
  },
  {
   "cell_type": "code",
   "execution_count": 23,
   "metadata": {},
   "outputs": [
    {
     "data": {
      "text/latex": [
       "$\\displaystyle \\left[\\begin{matrix}I_{4xx} & 0 & 0\\\\0 & I_{4yy} & 0\\\\0 & 0 & I_{4zz}\\end{matrix}\\right]$"
      ],
      "text/plain": [
       "Matrix([\n",
       "[I_{4xx},       0,       0],\n",
       "[      0, I_{4yy},       0],\n",
       "[      0,       0, I_{4zz}]])"
      ]
     },
     "execution_count": 23,
     "metadata": {},
     "output_type": "execute_result"
    }
   ],
   "source": [
    "I4 = Matrix(((I4xx, 0, 0),\n",
    "             (0, I4yy, 0),\n",
    "             (0, 0, I4zz)))\n",
    "I4"
   ]
  },
  {
   "cell_type": "code",
   "execution_count": 24,
   "metadata": {},
   "outputs": [
    {
     "data": {
      "text/latex": [
       "$\\displaystyle \\left[\\begin{matrix}- \\sin{\\left(q_{2} \\right)} \\cos{\\left(q_{1} \\right)} & - \\cos{\\left(q_{1} \\right)} \\cos{\\left(q_{2} \\right)} & \\sin{\\left(q_{1} \\right)}\\\\- \\sin{\\left(q_{1} \\right)} \\sin{\\left(q_{2} \\right)} & - \\sin{\\left(q_{1} \\right)} \\cos{\\left(q_{2} \\right)} & \\cos{\\left(q_{1} \\right)}\\\\\\cos{\\left(q_{2} \\right)} & - \\sin{\\left(q_{2} \\right)} & 0\\end{matrix}\\right]$"
      ],
      "text/plain": [
       "Matrix([\n",
       "[-sin(q2)*cos(q1), -cos(q1)*cos(q2), sin(q1)],\n",
       "[-sin(q1)*sin(q2), -sin(q1)*cos(q2), cos(q1)],\n",
       "[         cos(q2),         -sin(q2),       0]])"
      ]
     },
     "execution_count": 24,
     "metadata": {},
     "output_type": "execute_result"
    }
   ],
   "source": [
    "R2 = Matrix(((-cos(q1) * sin(q2), -cos(q1)*cos(q2), sin(q1)),\n",
    "             (-sin(q1)*sin(q2), -sin(q1)*cos(q2), cos(q1)),\n",
    "             (cos(q2), -sin(q2), 0)))\n",
    "R2"
   ]
  },
  {
   "cell_type": "code",
   "execution_count": 25,
   "metadata": {},
   "outputs": [
    {
     "data": {
      "text/latex": [
       "$\\displaystyle \\left[\\begin{matrix}- \\sin{\\left(q_{2} + q_{3} + q_{4} \\right)} \\cos{\\left(q_{1} \\right)} & - \\cos{\\left(q_{1} \\right)} \\cos{\\left(q_{2} + q_{3} + q_{4} \\right)} & \\sin{\\left(q_{1} \\right)}\\\\- \\sin{\\left(q_{1} \\right)} \\sin{\\left(q_{2} + q_{3} + q_{4} \\right)} & - \\sin{\\left(q_{1} \\right)} \\cos{\\left(q_{2} + q_{3} + q_{4} \\right)} & - \\cos{\\left(q_{1} \\right)}\\\\\\cos{\\left(q_{2} + q_{3} + q_{4} \\right)} & - \\sin{\\left(q_{2} + q_{3} + q_{4} \\right)} & 0\\end{matrix}\\right]$"
      ],
      "text/plain": [
       "Matrix([\n",
       "[-sin(q2 + q3 + q4)*cos(q1), -cos(q1)*cos(q2 + q3 + q4),  sin(q1)],\n",
       "[-sin(q1)*sin(q2 + q3 + q4), -sin(q1)*cos(q2 + q3 + q4), -cos(q1)],\n",
       "[         cos(q2 + q3 + q4),         -sin(q2 + q3 + q4),        0]])"
      ]
     },
     "execution_count": 25,
     "metadata": {},
     "output_type": "execute_result"
    }
   ],
   "source": [
    "R4 = Matrix(((-cos(q1) * sin(q2 + q3 + q4),     -cos(q1)* cos(q2 + q3 + q4),  sin(q1)),\n",
    "             (-sin(q1) * sin(q2 + q3 + q4),        -sin(q1) * cos(q2 + q3 + q4),  -cos(q1)),\n",
    "             (cos(q2 + q3 + q4),                 -sin(q2 + q3 + q4),             0)))\n",
    "R4"
   ]
  },
  {
   "cell_type": "code",
   "execution_count": 26,
   "metadata": {},
   "outputs": [
    {
     "data": {
      "text/latex": [
       "$\\displaystyle \\left[\\begin{matrix}0 & \\sin{\\left(q_{1} \\right)} & \\sin{\\left(q_{1} \\right)} & \\sin{\\left(q_{1} \\right)}\\\\0 & - \\cos{\\left(q_{1} \\right)} & - \\cos{\\left(q_{1} \\right)} & - \\cos{\\left(q_{1} \\right)}\\\\1 & 0 & 0 & 0\\end{matrix}\\right]$"
      ],
      "text/plain": [
       "Matrix([\n",
       "[0,  sin(q1),  sin(q1),  sin(q1)],\n",
       "[0, -cos(q1), -cos(q1), -cos(q1)],\n",
       "[1,        0,        0,        0]])"
      ]
     },
     "execution_count": 26,
     "metadata": {},
     "output_type": "execute_result"
    }
   ],
   "source": [
    "J4w = Matrix.hstack(z0, z1, z1, z1)\n",
    "J4w"
   ]
  },
  {
   "cell_type": "code",
   "execution_count": 27,
   "metadata": {},
   "outputs": [
    {
     "data": {
      "text/latex": [
       "$\\displaystyle \\left[\\begin{matrix}- \\sin{\\left(q_{2} + q_{3} + q_{4} - \\theta \\right)} \\cos{\\left(q_{1} \\right)}\\\\- \\sin{\\left(q_{1} \\right)} \\sin{\\left(q_{2} + q_{3} + q_{4} - \\theta \\right)}\\\\\\cos{\\left(q_{2} + q_{3} + q_{4} - \\theta \\right)}\\end{matrix}\\right]$"
      ],
      "text/plain": [
       "Matrix([\n",
       "[-sin(q2 + q3 + q4 - theta)*cos(q1)],\n",
       "[-sin(q1)*sin(q2 + q3 + q4 - theta)],\n",
       "[         cos(q2 + q3 + q4 - theta)]])"
      ]
     },
     "execution_count": 27,
     "metadata": {},
     "output_type": "execute_result"
    }
   ],
   "source": [
    "c43 = Matrix((-cos(q1) * sin(q2 + q3 + q4 -theta), -sin(q1)*sin(q2+q3 + q4 - theta), cos(q2 + q3 + q4 - theta)))\n",
    "c43"
   ]
  },
  {
   "cell_type": "code",
   "execution_count": 52,
   "metadata": {},
   "outputs": [
    {
     "data": {
      "text/latex": [
       "$\\displaystyle \\left[\\begin{matrix}\\left(L_{2} \\sin{\\left(q_{2} \\right)} + L_{3} \\sin{\\left(q_{2} + q_{3} \\right)} + L_{C4} \\sin{\\left(q_{2} + q_{3} + q_{4} - \\theta \\right)}\\right) \\sin{\\left(q_{1} \\right)} & - \\left(L_{2} \\cos{\\left(q_{2} \\right)} + L_{3} \\cos{\\left(q_{2} + q_{3} \\right)} + L_{C4} \\cos{\\left(q_{2} + q_{3} + q_{4} - \\theta \\right)}\\right) \\cos{\\left(q_{1} \\right)} & - \\left(L_{3} \\cos{\\left(q_{2} + q_{3} \\right)} + L_{C4} \\cos{\\left(q_{2} + q_{3} + q_{4} - \\theta \\right)}\\right) \\cos{\\left(q_{1} \\right)} & - L_{C4} \\cos{\\left(q_{1} \\right)} \\cos{\\left(q_{2} + q_{3} + q_{4} - \\theta \\right)}\\\\\\left(- L_{2} \\sin{\\left(q_{2} \\right)} - L_{3} \\sin{\\left(q_{2} + q_{3} \\right)} - L_{C4} \\sin{\\left(q_{2} + q_{3} + q_{4} - \\theta \\right)}\\right) \\cos{\\left(q_{1} \\right)} & - \\left(L_{2} \\cos{\\left(q_{2} \\right)} + L_{3} \\cos{\\left(q_{2} + q_{3} \\right)} + L_{C4} \\cos{\\left(q_{2} + q_{3} + q_{4} - \\theta \\right)}\\right) \\sin{\\left(q_{1} \\right)} & - \\left(L_{3} \\cos{\\left(q_{2} + q_{3} \\right)} + L_{C4} \\cos{\\left(q_{2} + q_{3} + q_{4} - \\theta \\right)}\\right) \\sin{\\left(q_{1} \\right)} & - L_{C4} \\sin{\\left(q_{1} \\right)} \\cos{\\left(q_{2} + q_{3} + q_{4} - \\theta \\right)}\\\\0 & - L_{2} \\sin{\\left(q_{2} \\right)} - L_{3} \\sin{\\left(q_{2} + q_{3} \\right)} - L_{C4} \\sin{\\left(q_{2} + q_{3} + q_{4} - \\theta \\right)} & - L_{3} \\sin{\\left(q_{2} + q_{3} \\right)} - L_{C4} \\sin{\\left(q_{2} + q_{3} + q_{4} - \\theta \\right)} & - L_{C4} \\sin{\\left(q_{2} + q_{3} + q_{4} - \\theta \\right)}\\end{matrix}\\right]$"
      ],
      "text/plain": [
       "Matrix([\n",
       "[ (L2*sin(q2) + L3*sin(q2 + q3) + L_{C4}*sin(q2 + q3 + q4 - theta))*sin(q1), -(L2*cos(q2) + L3*cos(q2 + q3) + L_{C4}*cos(q2 + q3 + q4 - theta))*cos(q1), -(L3*cos(q2 + q3) + L_{C4}*cos(q2 + q3 + q4 - theta))*cos(q1), -L_{C4}*cos(q1)*cos(q2 + q3 + q4 - theta)],\n",
       "[(-L2*sin(q2) - L3*sin(q2 + q3) - L_{C4}*sin(q2 + q3 + q4 - theta))*cos(q1), -(L2*cos(q2) + L3*cos(q2 + q3) + L_{C4}*cos(q2 + q3 + q4 - theta))*sin(q1), -(L3*cos(q2 + q3) + L_{C4}*cos(q2 + q3 + q4 - theta))*sin(q1), -L_{C4}*sin(q1)*cos(q2 + q3 + q4 - theta)],\n",
       "[                                                                         0,           -L2*sin(q2) - L3*sin(q2 + q3) - L_{C4}*sin(q2 + q3 + q4 - theta),           -L3*sin(q2 + q3) - L_{C4}*sin(q2 + q3 + q4 - theta),         -L_{C4}*sin(q2 + q3 + q4 - theta)]])"
      ]
     },
     "execution_count": 52,
     "metadata": {},
     "output_type": "execute_result"
    }
   ],
   "source": [
    "J4v = Matrix.hstack(z0.cross(lc4*c43 + l3*c32 + l2*c21 + l1*z0), z1.cross(lc4*c43 + l3*c32 + l2*c21),z1.cross(lc4*c43 + l3*c32),z1.cross(lc4*c43))\n",
    "J4v = simplify(J4v)\n",
    "J4v"
   ]
  },
  {
   "cell_type": "code",
   "execution_count": 29,
   "metadata": {},
   "outputs": [
    {
     "data": {
      "text/latex": [
       "$\\displaystyle \\left[\\begin{matrix}I_{4xx} \\cos^{2}{\\left(q_{2} + q_{3} + q_{4} \\right)} + I_{4yy} \\sin^{2}{\\left(q_{2} + q_{3} + q_{4} \\right)} + 0.04 \\left(L_{2} \\sin{\\left(q_{2} \\right)} + L_{3} \\sin{\\left(q_{2} + q_{3} \\right)} + L_{C4} \\sin{\\left(q_{2} + q_{3} + q_{4} - \\theta \\right)}\\right)^{2} \\sin^{2}{\\left(q_{1} \\right)} + 0.04 \\left(L_{2} \\sin{\\left(q_{2} \\right)} + L_{3} \\sin{\\left(q_{2} + q_{3} \\right)} + L_{C4} \\sin{\\left(q_{2} + q_{3} + q_{4} - \\theta \\right)}\\right)^{2} \\cos^{2}{\\left(q_{1} \\right)} & 0 & 0 & 0\\\\0 & 1.0 I_{4zz} + 0.04 L_{2}^{2} + 0.08 L_{2} L_{3} \\cos{\\left(q_{3} \\right)} + 0.08 L_{2} L_{C4} \\cos{\\left(q_{3} + q_{4} - \\theta \\right)} + 0.04 L_{3}^{2} + 0.08 L_{3} L_{C4} \\cos{\\left(q_{4} - \\theta \\right)} + 0.04 L_{C4}^{2} & 1.0 I_{4zz} + 0.04 L_{2} L_{3} \\cos{\\left(q_{3} \\right)} + 0.04 L_{2} L_{C4} \\cos{\\left(q_{3} + q_{4} - \\theta \\right)} + 0.04 L_{3}^{2} + 0.08 L_{3} L_{C4} \\cos{\\left(q_{4} - \\theta \\right)} + 0.04 L_{C4}^{2} & 1.0 I_{4zz} + 0.04 L_{2} L_{C4} \\cos{\\left(q_{3} + q_{4} - \\theta \\right)} + 0.04 L_{3} L_{C4} \\cos{\\left(q_{4} - \\theta \\right)} + 0.04 L_{C4}^{2}\\\\0 & 1.0 I_{4zz} + 0.04 L_{2} L_{3} \\cos{\\left(q_{3} \\right)} + 0.04 L_{2} L_{C4} \\cos{\\left(q_{3} + q_{4} - \\theta \\right)} + 0.04 L_{3}^{2} + 0.08 L_{3} L_{C4} \\cos{\\left(q_{4} - \\theta \\right)} + 0.04 L_{C4}^{2} & 1.0 I_{4zz} + 0.04 L_{3}^{2} + 0.08 L_{3} L_{C4} \\cos{\\left(q_{4} - \\theta \\right)} + 0.04 L_{C4}^{2} & 1.0 I_{4zz} + 0.04 L_{3} L_{C4} \\cos{\\left(q_{4} - \\theta \\right)} + 0.04 L_{C4}^{2}\\\\0 & 1.0 I_{4zz} + 0.04 L_{2} L_{C4} \\cos{\\left(q_{3} + q_{4} - \\theta \\right)} + 0.04 L_{3} L_{C4} \\cos{\\left(q_{4} - \\theta \\right)} + 0.04 L_{C4}^{2} & 1.0 I_{4zz} + 0.04 L_{3} L_{C4} \\cos{\\left(q_{4} - \\theta \\right)} + 0.04 L_{C4}^{2} & 1.0 I_{4zz} + 0.04 L_{C4}^{2}\\end{matrix}\\right]$"
      ],
      "text/plain": [
       "Matrix([\n",
       "[I_{4xx}*cos(q2 + q3 + q4)**2 + I_{4yy}*sin(q2 + q3 + q4)**2 + 0.04*(L2*sin(q2) + L3*sin(q2 + q3) + L_{C4}*sin(q2 + q3 + q4 - theta))**2*sin(q1)**2 + 0.04*(L2*sin(q2) + L3*sin(q2 + q3) + L_{C4}*sin(q2 + q3 + q4 - theta))**2*cos(q1)**2,                                                                                                                                                  0,                                                                                                                                     0,                                                                                                   0],\n",
       "[                                                                                                                                                                                                                                        0, 1.0*I_{4zz} + 0.04*L2**2 + 0.08*L2*L3*cos(q3) + 0.08*L2*L_{C4}*cos(q3 + q4 - theta) + 0.04*L3**2 + 0.08*L3*L_{C4}*cos(q4 - theta) + 0.04*L_{C4}**2, 1.0*I_{4zz} + 0.04*L2*L3*cos(q3) + 0.04*L2*L_{C4}*cos(q3 + q4 - theta) + 0.04*L3**2 + 0.08*L3*L_{C4}*cos(q4 - theta) + 0.04*L_{C4}**2, 1.0*I_{4zz} + 0.04*L2*L_{C4}*cos(q3 + q4 - theta) + 0.04*L3*L_{C4}*cos(q4 - theta) + 0.04*L_{C4}**2],\n",
       "[                                                                                                                                                                                                                                        0,              1.0*I_{4zz} + 0.04*L2*L3*cos(q3) + 0.04*L2*L_{C4}*cos(q3 + q4 - theta) + 0.04*L3**2 + 0.08*L3*L_{C4}*cos(q4 - theta) + 0.04*L_{C4}**2,                                                            1.0*I_{4zz} + 0.04*L3**2 + 0.08*L3*L_{C4}*cos(q4 - theta) + 0.04*L_{C4}**2,                                       1.0*I_{4zz} + 0.04*L3*L_{C4}*cos(q4 - theta) + 0.04*L_{C4}**2],\n",
       "[                                                                                                                                                                                                                                        0,                                                1.0*I_{4zz} + 0.04*L2*L_{C4}*cos(q3 + q4 - theta) + 0.04*L3*L_{C4}*cos(q4 - theta) + 0.04*L_{C4}**2,                                                                         1.0*I_{4zz} + 0.04*L3*L_{C4}*cos(q4 - theta) + 0.04*L_{C4}**2,                                                                        1.0*I_{4zz} + 0.04*L_{C4}**2]])"
      ]
     },
     "execution_count": 29,
     "metadata": {},
     "output_type": "execute_result"
    }
   ],
   "source": [
    "D4 = simplify(0.04*J4v.T * J4v + J4w.T * R4 * I4 * R4.T * J4w)\n",
    "D4"
   ]
  },
  {
   "cell_type": "markdown",
   "metadata": {},
   "source": [
    "# D and Christoffel symbols"
   ]
  },
  {
   "cell_type": "code",
   "execution_count": 30,
   "metadata": {},
   "outputs": [
    {
     "data": {
      "text/latex": [
       "$\\displaystyle \\left[\\begin{matrix}I_{1yy} - 1.0 I_{2xx} \\sin^{2}{\\left(q_{2} \\right)} + I_{2xx} \\cos^{2}{\\left(q_{2} + q_{3} \\right)} + 1.0 I_{2xx} + 1.0 I_{2yy} \\sin^{2}{\\left(q_{2} \\right)} + I_{2yy} \\sin^{2}{\\left(q_{2} + q_{3} \\right)} + I_{4xx} \\cos^{2}{\\left(q_{2} + q_{3} + q_{4} \\right)} + I_{4yy} \\sin^{2}{\\left(q_{2} + q_{3} + q_{4} \\right)} + 0.08 L_{c2}^{2} \\sin^{2}{\\left(q_{2} \\right)} + 0.08 \\left(L_{2} \\sin{\\left(q_{2} \\right)} + L_{c3} \\sin{\\left(q_{2} + q_{3} \\right)}\\right)^{2} \\sin^{2}{\\left(q_{1} \\right)} + 0.08 \\left(L_{2} \\sin{\\left(q_{2} \\right)} + L_{c3} \\sin{\\left(q_{2} + q_{3} \\right)}\\right)^{2} \\cos^{2}{\\left(q_{1} \\right)} + 0.04 \\left(L_{2} \\sin{\\left(q_{2} \\right)} + L_{3} \\sin{\\left(q_{2} + q_{3} \\right)} + L_{C4} \\sin{\\left(q_{2} + q_{3} + q_{4} - \\theta \\right)}\\right)^{2} \\sin^{2}{\\left(q_{1} \\right)} + 0.04 \\left(L_{2} \\sin{\\left(q_{2} \\right)} + L_{3} \\sin{\\left(q_{2} + q_{3} \\right)} + L_{C4} \\sin{\\left(q_{2} + q_{3} + q_{4} - \\theta \\right)}\\right)^{2} \\cos^{2}{\\left(q_{1} \\right)} & 0 & 0 & 0\\\\0 & 4.0 I_{2zz} \\sin^{4}{\\left(q_{1} \\right)} - 4.0 I_{2zz} \\sin^{2}{\\left(q_{1} \\right)} + 2.0 I_{2zz} + 1.0 I_{4zz} + 0.12 L_{2}^{2} + 0.08 L_{2} L_{3} \\cos{\\left(q_{3} \\right)} + 0.08 L_{2} L_{C4} \\cos{\\left(q_{3} + q_{4} - \\theta \\right)} + 0.16 L_{2} L_{c3} \\cos{\\left(q_{3} \\right)} + 0.04 L_{3}^{2} + 0.08 L_{3} L_{C4} \\cos{\\left(q_{4} - \\theta \\right)} + 0.04 L_{C4}^{2} + 0.08 L_{c2}^{2} + 0.08 L_{c3}^{2} & 4.0 I_{2zz} \\sin^{4}{\\left(q_{1} \\right)} - 4.0 I_{2zz} \\sin^{2}{\\left(q_{1} \\right)} + 1.0 I_{2zz} + 1.0 I_{4zz} + 0.04 L_{2} L_{3} \\cos{\\left(q_{3} \\right)} + 0.04 L_{2} L_{C4} \\cos{\\left(q_{3} + q_{4} - \\theta \\right)} + 0.08 L_{2} L_{c3} \\cos{\\left(q_{3} \\right)} + 0.04 L_{3}^{2} + 0.08 L_{3} L_{C4} \\cos{\\left(q_{4} - \\theta \\right)} + 0.04 L_{C4}^{2} + 0.08 L_{c3}^{2} & 1.0 I_{4zz} + 0.04 L_{2} L_{C4} \\cos{\\left(q_{3} + q_{4} - \\theta \\right)} + 0.04 L_{3} L_{C4} \\cos{\\left(q_{4} - \\theta \\right)} + 0.04 L_{C4}^{2}\\\\0 & 4.0 I_{2zz} \\sin^{4}{\\left(q_{1} \\right)} - 4.0 I_{2zz} \\sin^{2}{\\left(q_{1} \\right)} + 1.0 I_{2zz} + 1.0 I_{4zz} + 0.04 L_{2} L_{3} \\cos{\\left(q_{3} \\right)} + 0.04 L_{2} L_{C4} \\cos{\\left(q_{3} + q_{4} - \\theta \\right)} + 0.08 L_{2} L_{c3} \\cos{\\left(q_{3} \\right)} + 0.04 L_{3}^{2} + 0.08 L_{3} L_{C4} \\cos{\\left(q_{4} - \\theta \\right)} + 0.04 L_{C4}^{2} + 0.08 L_{c3}^{2} & 4.0 I_{2zz} \\sin^{4}{\\left(q_{1} \\right)} - 4.0 I_{2zz} \\sin^{2}{\\left(q_{1} \\right)} + 1.0 I_{2zz} + 1.0 I_{4zz} + 0.04 L_{3}^{2} + 0.08 L_{3} L_{C4} \\cos{\\left(q_{4} - \\theta \\right)} + 0.04 L_{C4}^{2} + 0.08 L_{c3}^{2} & 1.0 I_{4zz} + 0.04 L_{3} L_{C4} \\cos{\\left(q_{4} - \\theta \\right)} + 0.04 L_{C4}^{2}\\\\0 & 1.0 I_{4zz} + 0.04 L_{2} L_{C4} \\cos{\\left(q_{3} + q_{4} - \\theta \\right)} + 0.04 L_{3} L_{C4} \\cos{\\left(q_{4} - \\theta \\right)} + 0.04 L_{C4}^{2} & 1.0 I_{4zz} + 0.04 L_{3} L_{C4} \\cos{\\left(q_{4} - \\theta \\right)} + 0.04 L_{C4}^{2} & 1.0 I_{4zz} + 0.04 L_{C4}^{2}\\end{matrix}\\right]$"
      ],
      "text/plain": [
       "Matrix([\n",
       "[I_{1yy} - 1.0*I_{2xx}*sin(q2)**2 + I_{2xx}*cos(q2 + q3)**2 + 1.0*I_{2xx} + 1.0*I_{2yy}*sin(q2)**2 + I_{2yy}*sin(q2 + q3)**2 + I_{4xx}*cos(q2 + q3 + q4)**2 + I_{4yy}*sin(q2 + q3 + q4)**2 + 0.08*L_{c2}**2*sin(q2)**2 + 0.08*(L2*sin(q2) + L_{c3}*sin(q2 + q3))**2*sin(q1)**2 + 0.08*(L2*sin(q2) + L_{c3}*sin(q2 + q3))**2*cos(q1)**2 + 0.04*(L2*sin(q2) + L3*sin(q2 + q3) + L_{C4}*sin(q2 + q3 + q4 - theta))**2*sin(q1)**2 + 0.04*(L2*sin(q2) + L3*sin(q2 + q3) + L_{C4}*sin(q2 + q3 + q4 - theta))**2*cos(q1)**2,                                                                                                                                                                                                                                                                             0,                                                                                                                                                                                                                                               0,                                                                                                   0],\n",
       "[                                                                                                                                                                                                                                                                                                                                                                                                                                                                                                                  0, 4.0*I_{2zz}*sin(q1)**4 - 4.0*I_{2zz}*sin(q1)**2 + 2.0*I_{2zz} + 1.0*I_{4zz} + 0.12*L2**2 + 0.08*L2*L3*cos(q3) + 0.08*L2*L_{C4}*cos(q3 + q4 - theta) + 0.16*L2*L_{c3}*cos(q3) + 0.04*L3**2 + 0.08*L3*L_{C4}*cos(q4 - theta) + 0.04*L_{C4}**2 + 0.08*L_{c2}**2 + 0.08*L_{c3}**2, 4.0*I_{2zz}*sin(q1)**4 - 4.0*I_{2zz}*sin(q1)**2 + 1.0*I_{2zz} + 1.0*I_{4zz} + 0.04*L2*L3*cos(q3) + 0.04*L2*L_{C4}*cos(q3 + q4 - theta) + 0.08*L2*L_{c3}*cos(q3) + 0.04*L3**2 + 0.08*L3*L_{C4}*cos(q4 - theta) + 0.04*L_{C4}**2 + 0.08*L_{c3}**2, 1.0*I_{4zz} + 0.04*L2*L_{C4}*cos(q3 + q4 - theta) + 0.04*L3*L_{C4}*cos(q4 - theta) + 0.04*L_{C4}**2],\n",
       "[                                                                                                                                                                                                                                                                                                                                                                                                                                                                                                                  0,                               4.0*I_{2zz}*sin(q1)**4 - 4.0*I_{2zz}*sin(q1)**2 + 1.0*I_{2zz} + 1.0*I_{4zz} + 0.04*L2*L3*cos(q3) + 0.04*L2*L_{C4}*cos(q3 + q4 - theta) + 0.08*L2*L_{c3}*cos(q3) + 0.04*L3**2 + 0.08*L3*L_{C4}*cos(q4 - theta) + 0.04*L_{C4}**2 + 0.08*L_{c3}**2,                                                                                     4.0*I_{2zz}*sin(q1)**4 - 4.0*I_{2zz}*sin(q1)**2 + 1.0*I_{2zz} + 1.0*I_{4zz} + 0.04*L3**2 + 0.08*L3*L_{C4}*cos(q4 - theta) + 0.04*L_{C4}**2 + 0.08*L_{c3}**2,                                       1.0*I_{4zz} + 0.04*L3*L_{C4}*cos(q4 - theta) + 0.04*L_{C4}**2],\n",
       "[                                                                                                                                                                                                                                                                                                                                                                                                                                                                                                                  0,                                                                                                                                                                           1.0*I_{4zz} + 0.04*L2*L_{C4}*cos(q3 + q4 - theta) + 0.04*L3*L_{C4}*cos(q4 - theta) + 0.04*L_{C4}**2,                                                                                                                                                                                   1.0*I_{4zz} + 0.04*L3*L_{C4}*cos(q4 - theta) + 0.04*L_{C4}**2,                                                                        1.0*I_{4zz} + 0.04*L_{C4}**2]])"
      ]
     },
     "execution_count": 30,
     "metadata": {},
     "output_type": "execute_result"
    }
   ],
   "source": [
    "D = D1 + D2 + D3 + D4\n",
    "D"
   ]
  },
  {
   "cell_type": "code",
   "execution_count": 31,
   "metadata": {},
   "outputs": [
    {
     "data": {
      "text/latex": [
       "$\\displaystyle \\left[\\begin{matrix}I_{1yy} - 1.0 I_{2xx} \\sin^{2}{\\left(q_{2} \\right)} + I_{2xx} \\cos^{2}{\\left(q_{2} + q_{3} \\right)} + 1.0 I_{2xx} + 1.0 I_{2yy} \\sin^{2}{\\left(q_{2} \\right)} + I_{2yy} \\sin^{2}{\\left(q_{2} + q_{3} \\right)} + I_{4xx} \\cos^{2}{\\left(q_{2} + q_{3} + q_{4} \\right)} + I_{4yy} \\sin^{2}{\\left(q_{2} + q_{3} + q_{4} \\right)} + 0.08 L_{c2}^{2} \\sin^{2}{\\left(q_{2} \\right)} + 0.08 \\left(L_{2} \\sin{\\left(q_{2} \\right)} + L_{c3} \\sin{\\left(q_{2} + q_{3} \\right)}\\right)^{2} \\sin^{2}{\\left(q_{1} \\right)} + 0.08 \\left(L_{2} \\sin{\\left(q_{2} \\right)} + L_{c3} \\sin{\\left(q_{2} + q_{3} \\right)}\\right)^{2} \\cos^{2}{\\left(q_{1} \\right)} + 0.04 \\left(L_{2} \\sin{\\left(q_{2} \\right)} + L_{3} \\sin{\\left(q_{2} + q_{3} \\right)} + L_{C4} \\sin{\\left(q_{2} + q_{3} + q_{4} - \\theta \\right)}\\right)^{2} \\sin^{2}{\\left(q_{1} \\right)} + 0.04 \\left(L_{2} \\sin{\\left(q_{2} \\right)} + L_{3} \\sin{\\left(q_{2} + q_{3} \\right)} + L_{C4} \\sin{\\left(q_{2} + q_{3} + q_{4} - \\theta \\right)}\\right)^{2} \\cos^{2}{\\left(q_{1} \\right)} & 0 & 0 & 0\\\\0 & 4.0 I_{2zz} \\sin^{4}{\\left(q_{1} \\right)} - 4.0 I_{2zz} \\sin^{2}{\\left(q_{1} \\right)} + 2.0 I_{2zz} + 1.0 I_{4zz} + 0.12 L_{2}^{2} + 0.08 L_{2} L_{3} \\cos{\\left(q_{3} \\right)} + 0.08 L_{2} L_{C4} \\cos{\\left(q_{3} + q_{4} - \\theta \\right)} + 0.16 L_{2} L_{c3} \\cos{\\left(q_{3} \\right)} + 0.04 L_{3}^{2} + 0.08 L_{3} L_{C4} \\cos{\\left(q_{4} - \\theta \\right)} + 0.04 L_{C4}^{2} + 0.08 L_{c2}^{2} + 0.08 L_{c3}^{2} & 4.0 I_{2zz} \\sin^{4}{\\left(q_{1} \\right)} - 4.0 I_{2zz} \\sin^{2}{\\left(q_{1} \\right)} + 1.0 I_{2zz} + 1.0 I_{4zz} + 0.04 L_{2} L_{3} \\cos{\\left(q_{3} \\right)} + 0.04 L_{2} L_{C4} \\cos{\\left(q_{3} + q_{4} - \\theta \\right)} + 0.08 L_{2} L_{c3} \\cos{\\left(q_{3} \\right)} + 0.04 L_{3}^{2} + 0.08 L_{3} L_{C4} \\cos{\\left(q_{4} - \\theta \\right)} + 0.04 L_{C4}^{2} + 0.08 L_{c3}^{2} & 1.0 I_{4zz} + 0.04 L_{2} L_{C4} \\cos{\\left(q_{3} + q_{4} - \\theta \\right)} + 0.04 L_{3} L_{C4} \\cos{\\left(q_{4} - \\theta \\right)} + 0.04 L_{C4}^{2}\\\\0 & 4.0 I_{2zz} \\sin^{4}{\\left(q_{1} \\right)} - 4.0 I_{2zz} \\sin^{2}{\\left(q_{1} \\right)} + 1.0 I_{2zz} + 1.0 I_{4zz} + 0.04 L_{2} L_{3} \\cos{\\left(q_{3} \\right)} + 0.04 L_{2} L_{C4} \\cos{\\left(q_{3} + q_{4} - \\theta \\right)} + 0.08 L_{2} L_{c3} \\cos{\\left(q_{3} \\right)} + 0.04 L_{3}^{2} + 0.08 L_{3} L_{C4} \\cos{\\left(q_{4} - \\theta \\right)} + 0.04 L_{C4}^{2} + 0.08 L_{c3}^{2} & 4.0 I_{2zz} \\sin^{4}{\\left(q_{1} \\right)} - 4.0 I_{2zz} \\sin^{2}{\\left(q_{1} \\right)} + 1.0 I_{2zz} + 1.0 I_{4zz} + 0.04 L_{3}^{2} + 0.08 L_{3} L_{C4} \\cos{\\left(q_{4} - \\theta \\right)} + 0.04 L_{C4}^{2} + 0.08 L_{c3}^{2} & 1.0 I_{4zz} + 0.04 L_{3} L_{C4} \\cos{\\left(q_{4} - \\theta \\right)} + 0.04 L_{C4}^{2}\\\\0 & 1.0 I_{4zz} + 0.04 L_{2} L_{C4} \\cos{\\left(q_{3} + q_{4} - \\theta \\right)} + 0.04 L_{3} L_{C4} \\cos{\\left(q_{4} - \\theta \\right)} + 0.04 L_{C4}^{2} & 1.0 I_{4zz} + 0.04 L_{3} L_{C4} \\cos{\\left(q_{4} - \\theta \\right)} + 0.04 L_{C4}^{2} & 1.0 I_{4zz} + 0.04 L_{C4}^{2}\\end{matrix}\\right]$"
      ],
      "text/plain": [
       "Matrix([\n",
       "[I_{1yy} - 1.0*I_{2xx}*sin(q2)**2 + I_{2xx}*cos(q2 + q3)**2 + 1.0*I_{2xx} + 1.0*I_{2yy}*sin(q2)**2 + I_{2yy}*sin(q2 + q3)**2 + I_{4xx}*cos(q2 + q3 + q4)**2 + I_{4yy}*sin(q2 + q3 + q4)**2 + 0.08*L_{c2}**2*sin(q2)**2 + 0.08*(L2*sin(q2) + L_{c3}*sin(q2 + q3))**2*sin(q1)**2 + 0.08*(L2*sin(q2) + L_{c3}*sin(q2 + q3))**2*cos(q1)**2 + 0.04*(L2*sin(q2) + L3*sin(q2 + q3) + L_{C4}*sin(q2 + q3 + q4 - theta))**2*sin(q1)**2 + 0.04*(L2*sin(q2) + L3*sin(q2 + q3) + L_{C4}*sin(q2 + q3 + q4 - theta))**2*cos(q1)**2,                                                                                                                                                                                                                                                                             0,                                                                                                                                                                                                                                               0,                                                                                                   0],\n",
       "[                                                                                                                                                                                                                                                                                                                                                                                                                                                                                                                  0, 4.0*I_{2zz}*sin(q1)**4 - 4.0*I_{2zz}*sin(q1)**2 + 2.0*I_{2zz} + 1.0*I_{4zz} + 0.12*L2**2 + 0.08*L2*L3*cos(q3) + 0.08*L2*L_{C4}*cos(q3 + q4 - theta) + 0.16*L2*L_{c3}*cos(q3) + 0.04*L3**2 + 0.08*L3*L_{C4}*cos(q4 - theta) + 0.04*L_{C4}**2 + 0.08*L_{c2}**2 + 0.08*L_{c3}**2, 4.0*I_{2zz}*sin(q1)**4 - 4.0*I_{2zz}*sin(q1)**2 + 1.0*I_{2zz} + 1.0*I_{4zz} + 0.04*L2*L3*cos(q3) + 0.04*L2*L_{C4}*cos(q3 + q4 - theta) + 0.08*L2*L_{c3}*cos(q3) + 0.04*L3**2 + 0.08*L3*L_{C4}*cos(q4 - theta) + 0.04*L_{C4}**2 + 0.08*L_{c3}**2, 1.0*I_{4zz} + 0.04*L2*L_{C4}*cos(q3 + q4 - theta) + 0.04*L3*L_{C4}*cos(q4 - theta) + 0.04*L_{C4}**2],\n",
       "[                                                                                                                                                                                                                                                                                                                                                                                                                                                                                                                  0,                               4.0*I_{2zz}*sin(q1)**4 - 4.0*I_{2zz}*sin(q1)**2 + 1.0*I_{2zz} + 1.0*I_{4zz} + 0.04*L2*L3*cos(q3) + 0.04*L2*L_{C4}*cos(q3 + q4 - theta) + 0.08*L2*L_{c3}*cos(q3) + 0.04*L3**2 + 0.08*L3*L_{C4}*cos(q4 - theta) + 0.04*L_{C4}**2 + 0.08*L_{c3}**2,                                                                                     4.0*I_{2zz}*sin(q1)**4 - 4.0*I_{2zz}*sin(q1)**2 + 1.0*I_{2zz} + 1.0*I_{4zz} + 0.04*L3**2 + 0.08*L3*L_{C4}*cos(q4 - theta) + 0.04*L_{C4}**2 + 0.08*L_{c3}**2,                                       1.0*I_{4zz} + 0.04*L3*L_{C4}*cos(q4 - theta) + 0.04*L_{C4}**2],\n",
       "[                                                                                                                                                                                                                                                                                                                                                                                                                                                                                                                  0,                                                                                                                                                                           1.0*I_{4zz} + 0.04*L2*L_{C4}*cos(q3 + q4 - theta) + 0.04*L3*L_{C4}*cos(q4 - theta) + 0.04*L_{C4}**2,                                                                                                                                                                                   1.0*I_{4zz} + 0.04*L3*L_{C4}*cos(q4 - theta) + 0.04*L_{C4}**2,                                                                        1.0*I_{4zz} + 0.04*L_{C4}**2]])"
      ]
     },
     "execution_count": 31,
     "metadata": {},
     "output_type": "execute_result"
    }
   ],
   "source": [
    "D = simplify(D)\n",
    "D"
   ]
  },
  {
   "cell_type": "code",
   "execution_count": 32,
   "metadata": {},
   "outputs": [],
   "source": [
    "import sympy\n",
    "C1 = sympy.matrices.zeros(4,4)\n",
    "C2 = sympy.matrices.zeros(4,4)\n",
    "C3 = sympy.matrices.zeros(4,4)\n",
    "C4 = sympy.matrices.zeros(4,4)\n",
    "C = [C1, C2, C3, C4]\n",
    "q = [q1, q2, q3, q4]"
   ]
  },
  {
   "cell_type": "code",
   "execution_count": 33,
   "metadata": {},
   "outputs": [],
   "source": [
    "for i in range(4):\n",
    "    for j in range(4):\n",
    "        for k in range(4):\n",
    "            C[i][j, k] = (diff(D[k, j], q[i]) + diff(D[k, i], q[j]) - diff(D[i, j], q[k]))/2\n",
    "            "
   ]
  },
  {
   "cell_type": "code",
   "execution_count": 34,
   "metadata": {},
   "outputs": [
    {
     "data": {
      "text/latex": [
       "$\\displaystyle \\left[\\begin{matrix}0 & 0.5 I_{2xx} \\sin{\\left(2 q_{2} \\right)} + \\frac{I_{2xx} \\sin{\\left(2 q_{2} + 2 q_{3} \\right)}}{2} - 0.5 I_{2yy} \\sin{\\left(2 q_{2} \\right)} - \\frac{I_{2yy} \\sin{\\left(2 q_{2} + 2 q_{3} \\right)}}{2} + \\frac{I_{4xx} \\sin{\\left(2 q_{2} + 2 q_{3} + 2 q_{4} \\right)}}{2} - \\frac{I_{4yy} \\sin{\\left(2 q_{2} + 2 q_{3} + 2 q_{4} \\right)}}{2} - 0.04 L_{c2}^{2} \\sin{\\left(2 q_{2} \\right)} - 0.08 \\left(L_{2} \\sin{\\left(q_{2} \\right)} + L_{c3} \\sin{\\left(q_{2} + q_{3} \\right)}\\right) \\left(L_{2} \\cos{\\left(q_{2} \\right)} + L_{c3} \\cos{\\left(q_{2} + q_{3} \\right)}\\right) \\sin^{2}{\\left(q_{1} \\right)} - 0.08 \\left(L_{2} \\sin{\\left(q_{2} \\right)} + L_{c3} \\sin{\\left(q_{2} + q_{3} \\right)}\\right) \\left(L_{2} \\cos{\\left(q_{2} \\right)} + L_{c3} \\cos{\\left(q_{2} + q_{3} \\right)}\\right) \\cos^{2}{\\left(q_{1} \\right)} - 0.04 \\left(L_{2} \\sin{\\left(q_{2} \\right)} + L_{3} \\sin{\\left(q_{2} + q_{3} \\right)} + L_{C4} \\sin{\\left(q_{2} + q_{3} + q_{4} - \\theta \\right)}\\right) \\left(L_{2} \\cos{\\left(q_{2} \\right)} + L_{3} \\cos{\\left(q_{2} + q_{3} \\right)} + L_{C4} \\cos{\\left(q_{2} + q_{3} + q_{4} - \\theta \\right)}\\right) \\sin^{2}{\\left(q_{1} \\right)} - 0.04 \\left(L_{2} \\sin{\\left(q_{2} \\right)} + L_{3} \\sin{\\left(q_{2} + q_{3} \\right)} + L_{C4} \\sin{\\left(q_{2} + q_{3} + q_{4} - \\theta \\right)}\\right) \\left(L_{2} \\cos{\\left(q_{2} \\right)} + L_{3} \\cos{\\left(q_{2} + q_{3} \\right)} + L_{C4} \\cos{\\left(q_{2} + q_{3} + q_{4} - \\theta \\right)}\\right) \\cos^{2}{\\left(q_{1} \\right)} & \\frac{I_{2xx} \\sin{\\left(2 q_{2} + 2 q_{3} \\right)}}{2} - \\frac{I_{2yy} \\sin{\\left(2 q_{2} + 2 q_{3} \\right)}}{2} + \\frac{I_{4xx} \\sin{\\left(2 q_{2} + 2 q_{3} + 2 q_{4} \\right)}}{2} - \\frac{I_{4yy} \\sin{\\left(2 q_{2} + 2 q_{3} + 2 q_{4} \\right)}}{2} - 0.08 L_{c3} \\left(L_{2} \\sin{\\left(q_{2} \\right)} + L_{c3} \\sin{\\left(q_{2} + q_{3} \\right)}\\right) \\sin^{2}{\\left(q_{1} \\right)} \\cos{\\left(q_{2} + q_{3} \\right)} - 0.08 L_{c3} \\left(L_{2} \\sin{\\left(q_{2} \\right)} + L_{c3} \\sin{\\left(q_{2} + q_{3} \\right)}\\right) \\cos^{2}{\\left(q_{1} \\right)} \\cos{\\left(q_{2} + q_{3} \\right)} - 0.04 \\left(L_{3} \\cos{\\left(q_{2} + q_{3} \\right)} + L_{C4} \\cos{\\left(q_{2} + q_{3} + q_{4} - \\theta \\right)}\\right) \\left(L_{2} \\sin{\\left(q_{2} \\right)} + L_{3} \\sin{\\left(q_{2} + q_{3} \\right)} + L_{C4} \\sin{\\left(q_{2} + q_{3} + q_{4} - \\theta \\right)}\\right) \\sin^{2}{\\left(q_{1} \\right)} - 0.04 \\left(L_{3} \\cos{\\left(q_{2} + q_{3} \\right)} + L_{C4} \\cos{\\left(q_{2} + q_{3} + q_{4} - \\theta \\right)}\\right) \\left(L_{2} \\sin{\\left(q_{2} \\right)} + L_{3} \\sin{\\left(q_{2} + q_{3} \\right)} + L_{C4} \\sin{\\left(q_{2} + q_{3} + q_{4} - \\theta \\right)}\\right) \\cos^{2}{\\left(q_{1} \\right)} & \\frac{I_{4xx} \\sin{\\left(2 q_{2} + 2 q_{3} + 2 q_{4} \\right)}}{2} - \\frac{I_{4yy} \\sin{\\left(2 q_{2} + 2 q_{3} + 2 q_{4} \\right)}}{2} - 0.04 L_{C4} \\left(L_{2} \\sin{\\left(q_{2} \\right)} + L_{3} \\sin{\\left(q_{2} + q_{3} \\right)} + L_{C4} \\sin{\\left(q_{2} + q_{3} + q_{4} - \\theta \\right)}\\right) \\sin^{2}{\\left(q_{1} \\right)} \\cos{\\left(q_{2} + q_{3} + q_{4} - \\theta \\right)} - 0.04 L_{C4} \\left(L_{2} \\sin{\\left(q_{2} \\right)} + L_{3} \\sin{\\left(q_{2} + q_{3} \\right)} + L_{C4} \\sin{\\left(q_{2} + q_{3} + q_{4} - \\theta \\right)}\\right) \\cos^{2}{\\left(q_{1} \\right)} \\cos{\\left(q_{2} + q_{3} + q_{4} - \\theta \\right)}\\\\- 0.5 I_{2xx} \\sin{\\left(2 q_{2} \\right)} - \\frac{I_{2xx} \\sin{\\left(2 q_{2} + 2 q_{3} \\right)}}{2} + 0.5 I_{2yy} \\sin{\\left(2 q_{2} \\right)} + \\frac{I_{2yy} \\sin{\\left(2 q_{2} + 2 q_{3} \\right)}}{2} - \\frac{I_{4xx} \\sin{\\left(2 q_{2} + 2 q_{3} + 2 q_{4} \\right)}}{2} + \\frac{I_{4yy} \\sin{\\left(2 q_{2} + 2 q_{3} + 2 q_{4} \\right)}}{2} + 0.04 L_{c2}^{2} \\sin{\\left(2 q_{2} \\right)} + 0.08 \\left(L_{2} \\sin{\\left(q_{2} \\right)} + L_{c3} \\sin{\\left(q_{2} + q_{3} \\right)}\\right) \\left(L_{2} \\cos{\\left(q_{2} \\right)} + L_{c3} \\cos{\\left(q_{2} + q_{3} \\right)}\\right) \\sin^{2}{\\left(q_{1} \\right)} + 0.08 \\left(L_{2} \\sin{\\left(q_{2} \\right)} + L_{c3} \\sin{\\left(q_{2} + q_{3} \\right)}\\right) \\left(L_{2} \\cos{\\left(q_{2} \\right)} + L_{c3} \\cos{\\left(q_{2} + q_{3} \\right)}\\right) \\cos^{2}{\\left(q_{1} \\right)} + 0.04 \\left(L_{2} \\sin{\\left(q_{2} \\right)} + L_{3} \\sin{\\left(q_{2} + q_{3} \\right)} + L_{C4} \\sin{\\left(q_{2} + q_{3} + q_{4} - \\theta \\right)}\\right) \\left(L_{2} \\cos{\\left(q_{2} \\right)} + L_{3} \\cos{\\left(q_{2} + q_{3} \\right)} + L_{C4} \\cos{\\left(q_{2} + q_{3} + q_{4} - \\theta \\right)}\\right) \\sin^{2}{\\left(q_{1} \\right)} + 0.04 \\left(L_{2} \\sin{\\left(q_{2} \\right)} + L_{3} \\sin{\\left(q_{2} + q_{3} \\right)} + L_{C4} \\sin{\\left(q_{2} + q_{3} + q_{4} - \\theta \\right)}\\right) \\left(L_{2} \\cos{\\left(q_{2} \\right)} + L_{3} \\cos{\\left(q_{2} + q_{3} \\right)} + L_{C4} \\cos{\\left(q_{2} + q_{3} + q_{4} - \\theta \\right)}\\right) \\cos^{2}{\\left(q_{1} \\right)} & - 1.0 I_{2zz} \\sin{\\left(4 q_{1} \\right)} & - 1.0 I_{2zz} \\sin{\\left(4 q_{1} \\right)} & 0\\\\- \\frac{I_{2xx} \\sin{\\left(2 q_{2} + 2 q_{3} \\right)}}{2} + \\frac{I_{2yy} \\sin{\\left(2 q_{2} + 2 q_{3} \\right)}}{2} - \\frac{I_{4xx} \\sin{\\left(2 q_{2} + 2 q_{3} + 2 q_{4} \\right)}}{2} + \\frac{I_{4yy} \\sin{\\left(2 q_{2} + 2 q_{3} + 2 q_{4} \\right)}}{2} + 0.08 L_{c3} \\left(L_{2} \\sin{\\left(q_{2} \\right)} + L_{c3} \\sin{\\left(q_{2} + q_{3} \\right)}\\right) \\sin^{2}{\\left(q_{1} \\right)} \\cos{\\left(q_{2} + q_{3} \\right)} + 0.08 L_{c3} \\left(L_{2} \\sin{\\left(q_{2} \\right)} + L_{c3} \\sin{\\left(q_{2} + q_{3} \\right)}\\right) \\cos^{2}{\\left(q_{1} \\right)} \\cos{\\left(q_{2} + q_{3} \\right)} + 0.04 \\left(L_{3} \\cos{\\left(q_{2} + q_{3} \\right)} + L_{C4} \\cos{\\left(q_{2} + q_{3} + q_{4} - \\theta \\right)}\\right) \\left(L_{2} \\sin{\\left(q_{2} \\right)} + L_{3} \\sin{\\left(q_{2} + q_{3} \\right)} + L_{C4} \\sin{\\left(q_{2} + q_{3} + q_{4} - \\theta \\right)}\\right) \\sin^{2}{\\left(q_{1} \\right)} + 0.04 \\left(L_{3} \\cos{\\left(q_{2} + q_{3} \\right)} + L_{C4} \\cos{\\left(q_{2} + q_{3} + q_{4} - \\theta \\right)}\\right) \\left(L_{2} \\sin{\\left(q_{2} \\right)} + L_{3} \\sin{\\left(q_{2} + q_{3} \\right)} + L_{C4} \\sin{\\left(q_{2} + q_{3} + q_{4} - \\theta \\right)}\\right) \\cos^{2}{\\left(q_{1} \\right)} & - 1.0 I_{2zz} \\sin{\\left(4 q_{1} \\right)} & - 1.0 I_{2zz} \\sin{\\left(4 q_{1} \\right)} & 0\\\\- \\frac{I_{4xx} \\sin{\\left(2 q_{2} + 2 q_{3} + 2 q_{4} \\right)}}{2} + \\frac{I_{4yy} \\sin{\\left(2 q_{2} + 2 q_{3} + 2 q_{4} \\right)}}{2} + 0.04 L_{C4} \\left(L_{2} \\sin{\\left(q_{2} \\right)} + L_{3} \\sin{\\left(q_{2} + q_{3} \\right)} + L_{C4} \\sin{\\left(q_{2} + q_{3} + q_{4} - \\theta \\right)}\\right) \\sin^{2}{\\left(q_{1} \\right)} \\cos{\\left(q_{2} + q_{3} + q_{4} - \\theta \\right)} + 0.04 L_{C4} \\left(L_{2} \\sin{\\left(q_{2} \\right)} + L_{3} \\sin{\\left(q_{2} + q_{3} \\right)} + L_{C4} \\sin{\\left(q_{2} + q_{3} + q_{4} - \\theta \\right)}\\right) \\cos^{2}{\\left(q_{1} \\right)} \\cos{\\left(q_{2} + q_{3} + q_{4} - \\theta \\right)} & 0 & 0 & 0\\end{matrix}\\right]$"
      ],
      "text/plain": [
       "Matrix([\n",
       "[                                                                                                                                                                                                                                                                                                                                                                                                                                                                                                                                                                                                                                                                                                      0, 0.5*I_{2xx}*sin(2*q2) + I_{2xx}*sin(2*q2 + 2*q3)/2 - 0.5*I_{2yy}*sin(2*q2) - I_{2yy}*sin(2*q2 + 2*q3)/2 + I_{4xx}*sin(2*q2 + 2*q3 + 2*q4)/2 - I_{4yy}*sin(2*q2 + 2*q3 + 2*q4)/2 - 0.04*L_{c2}**2*sin(2*q2) - 0.08*(L2*sin(q2) + L_{c3}*sin(q2 + q3))*(L2*cos(q2) + L_{c3}*cos(q2 + q3))*sin(q1)**2 - 0.08*(L2*sin(q2) + L_{c3}*sin(q2 + q3))*(L2*cos(q2) + L_{c3}*cos(q2 + q3))*cos(q1)**2 - 0.04*(L2*sin(q2) + L3*sin(q2 + q3) + L_{C4}*sin(q2 + q3 + q4 - theta))*(L2*cos(q2) + L3*cos(q2 + q3) + L_{C4}*cos(q2 + q3 + q4 - theta))*sin(q1)**2 - 0.04*(L2*sin(q2) + L3*sin(q2 + q3) + L_{C4}*sin(q2 + q3 + q4 - theta))*(L2*cos(q2) + L3*cos(q2 + q3) + L_{C4}*cos(q2 + q3 + q4 - theta))*cos(q1)**2, I_{2xx}*sin(2*q2 + 2*q3)/2 - I_{2yy}*sin(2*q2 + 2*q3)/2 + I_{4xx}*sin(2*q2 + 2*q3 + 2*q4)/2 - I_{4yy}*sin(2*q2 + 2*q3 + 2*q4)/2 - 0.08*L_{c3}*(L2*sin(q2) + L_{c3}*sin(q2 + q3))*sin(q1)**2*cos(q2 + q3) - 0.08*L_{c3}*(L2*sin(q2) + L_{c3}*sin(q2 + q3))*cos(q1)**2*cos(q2 + q3) - 0.04*(L3*cos(q2 + q3) + L_{C4}*cos(q2 + q3 + q4 - theta))*(L2*sin(q2) + L3*sin(q2 + q3) + L_{C4}*sin(q2 + q3 + q4 - theta))*sin(q1)**2 - 0.04*(L3*cos(q2 + q3) + L_{C4}*cos(q2 + q3 + q4 - theta))*(L2*sin(q2) + L3*sin(q2 + q3) + L_{C4}*sin(q2 + q3 + q4 - theta))*cos(q1)**2, I_{4xx}*sin(2*q2 + 2*q3 + 2*q4)/2 - I_{4yy}*sin(2*q2 + 2*q3 + 2*q4)/2 - 0.04*L_{C4}*(L2*sin(q2) + L3*sin(q2 + q3) + L_{C4}*sin(q2 + q3 + q4 - theta))*sin(q1)**2*cos(q2 + q3 + q4 - theta) - 0.04*L_{C4}*(L2*sin(q2) + L3*sin(q2 + q3) + L_{C4}*sin(q2 + q3 + q4 - theta))*cos(q1)**2*cos(q2 + q3 + q4 - theta)],\n",
       "[-0.5*I_{2xx}*sin(2*q2) - I_{2xx}*sin(2*q2 + 2*q3)/2 + 0.5*I_{2yy}*sin(2*q2) + I_{2yy}*sin(2*q2 + 2*q3)/2 - I_{4xx}*sin(2*q2 + 2*q3 + 2*q4)/2 + I_{4yy}*sin(2*q2 + 2*q3 + 2*q4)/2 + 0.04*L_{c2}**2*sin(2*q2) + 0.08*(L2*sin(q2) + L_{c3}*sin(q2 + q3))*(L2*cos(q2) + L_{c3}*cos(q2 + q3))*sin(q1)**2 + 0.08*(L2*sin(q2) + L_{c3}*sin(q2 + q3))*(L2*cos(q2) + L_{c3}*cos(q2 + q3))*cos(q1)**2 + 0.04*(L2*sin(q2) + L3*sin(q2 + q3) + L_{C4}*sin(q2 + q3 + q4 - theta))*(L2*cos(q2) + L3*cos(q2 + q3) + L_{C4}*cos(q2 + q3 + q4 - theta))*sin(q1)**2 + 0.04*(L2*sin(q2) + L3*sin(q2 + q3) + L_{C4}*sin(q2 + q3 + q4 - theta))*(L2*cos(q2) + L3*cos(q2 + q3) + L_{C4}*cos(q2 + q3 + q4 - theta))*cos(q1)**2,                                                                                                                                                                                                                                                                                                                                                                                                                                                                                                                                                                                                                                                                                 -1.0*I_{2zz}*sin(4*q1),                                                                                                                                                                                                                                                                                                                                                                                                                                                                                                                                              -1.0*I_{2zz}*sin(4*q1),                                                                                                                                                                                                                                                                                                               0],\n",
       "[                                                                                                                                   -I_{2xx}*sin(2*q2 + 2*q3)/2 + I_{2yy}*sin(2*q2 + 2*q3)/2 - I_{4xx}*sin(2*q2 + 2*q3 + 2*q4)/2 + I_{4yy}*sin(2*q2 + 2*q3 + 2*q4)/2 + 0.08*L_{c3}*(L2*sin(q2) + L_{c3}*sin(q2 + q3))*sin(q1)**2*cos(q2 + q3) + 0.08*L_{c3}*(L2*sin(q2) + L_{c3}*sin(q2 + q3))*cos(q1)**2*cos(q2 + q3) + 0.04*(L3*cos(q2 + q3) + L_{C4}*cos(q2 + q3 + q4 - theta))*(L2*sin(q2) + L3*sin(q2 + q3) + L_{C4}*sin(q2 + q3 + q4 - theta))*sin(q1)**2 + 0.04*(L3*cos(q2 + q3) + L_{C4}*cos(q2 + q3 + q4 - theta))*(L2*sin(q2) + L3*sin(q2 + q3) + L_{C4}*sin(q2 + q3 + q4 - theta))*cos(q1)**2,                                                                                                                                                                                                                                                                                                                                                                                                                                                                                                                                                                                                                                                                                 -1.0*I_{2zz}*sin(4*q1),                                                                                                                                                                                                                                                                                                                                                                                                                                                                                                                                              -1.0*I_{2zz}*sin(4*q1),                                                                                                                                                                                                                                                                                                               0],\n",
       "[                                                                                                                                                                                                                                                                                                                                                                                       -I_{4xx}*sin(2*q2 + 2*q3 + 2*q4)/2 + I_{4yy}*sin(2*q2 + 2*q3 + 2*q4)/2 + 0.04*L_{C4}*(L2*sin(q2) + L3*sin(q2 + q3) + L_{C4}*sin(q2 + q3 + q4 - theta))*sin(q1)**2*cos(q2 + q3 + q4 - theta) + 0.04*L_{C4}*(L2*sin(q2) + L3*sin(q2 + q3) + L_{C4}*sin(q2 + q3 + q4 - theta))*cos(q1)**2*cos(q2 + q3 + q4 - theta),                                                                                                                                                                                                                                                                                                                                                                                                                                                                                                                                                                                                                                                                                                      0,                                                                                                                                                                                                                                                                                                                                                                                                                                                                                                                                                                   0,                                                                                                                                                                                                                                                                                                               0]])"
      ]
     },
     "execution_count": 34,
     "metadata": {},
     "output_type": "execute_result"
    }
   ],
   "source": [
    "C[0] = simplify(C[0])\n",
    "C[0]"
   ]
  },
  {
   "cell_type": "code",
   "execution_count": 35,
   "metadata": {},
   "outputs": [
    {
     "data": {
      "text/latex": [
       "$\\displaystyle \\left[\\begin{matrix}- 0.5 I_{2xx} \\sin{\\left(2 q_{2} \\right)} - \\frac{I_{2xx} \\sin{\\left(2 q_{2} + 2 q_{3} \\right)}}{2} + 0.5 I_{2yy} \\sin{\\left(2 q_{2} \\right)} + \\frac{I_{2yy} \\sin{\\left(2 q_{2} + 2 q_{3} \\right)}}{2} - \\frac{I_{4xx} \\sin{\\left(2 q_{2} + 2 q_{3} + 2 q_{4} \\right)}}{2} + \\frac{I_{4yy} \\sin{\\left(2 q_{2} + 2 q_{3} + 2 q_{4} \\right)}}{2} + 0.04 L_{c2}^{2} \\sin{\\left(2 q_{2} \\right)} + 0.08 \\left(L_{2} \\sin{\\left(q_{2} \\right)} + L_{c3} \\sin{\\left(q_{2} + q_{3} \\right)}\\right) \\left(L_{2} \\cos{\\left(q_{2} \\right)} + L_{c3} \\cos{\\left(q_{2} + q_{3} \\right)}\\right) \\sin^{2}{\\left(q_{1} \\right)} + 0.08 \\left(L_{2} \\sin{\\left(q_{2} \\right)} + L_{c3} \\sin{\\left(q_{2} + q_{3} \\right)}\\right) \\left(L_{2} \\cos{\\left(q_{2} \\right)} + L_{c3} \\cos{\\left(q_{2} + q_{3} \\right)}\\right) \\cos^{2}{\\left(q_{1} \\right)} + 0.04 \\left(L_{2} \\sin{\\left(q_{2} \\right)} + L_{3} \\sin{\\left(q_{2} + q_{3} \\right)} + L_{C4} \\sin{\\left(q_{2} + q_{3} + q_{4} - \\theta \\right)}\\right) \\left(L_{2} \\cos{\\left(q_{2} \\right)} + L_{3} \\cos{\\left(q_{2} + q_{3} \\right)} + L_{C4} \\cos{\\left(q_{2} + q_{3} + q_{4} - \\theta \\right)}\\right) \\sin^{2}{\\left(q_{1} \\right)} + 0.04 \\left(L_{2} \\sin{\\left(q_{2} \\right)} + L_{3} \\sin{\\left(q_{2} + q_{3} \\right)} + L_{C4} \\sin{\\left(q_{2} + q_{3} + q_{4} - \\theta \\right)}\\right) \\left(L_{2} \\cos{\\left(q_{2} \\right)} + L_{3} \\cos{\\left(q_{2} + q_{3} \\right)} + L_{C4} \\cos{\\left(q_{2} + q_{3} + q_{4} - \\theta \\right)}\\right) \\cos^{2}{\\left(q_{1} \\right)} & - 1.0 I_{2zz} \\sin{\\left(4 q_{1} \\right)} & - 1.0 I_{2zz} \\sin{\\left(4 q_{1} \\right)} & 0\\\\1.0 I_{2zz} \\sin{\\left(4 q_{1} \\right)} & 0 & L_{2} \\left(0.04 L_{3} \\sin{\\left(q_{3} \\right)} + 0.04 L_{C4} \\sin{\\left(q_{3} + q_{4} - \\theta \\right)} + 0.08 L_{c3} \\sin{\\left(q_{3} \\right)}\\right) & 0.04 L_{C4} \\left(L_{2} \\sin{\\left(q_{3} + q_{4} - \\theta \\right)} + L_{3} \\sin{\\left(q_{4} - \\theta \\right)}\\right)\\\\1.0 I_{2zz} \\sin{\\left(4 q_{1} \\right)} & - L_{2} \\left(0.04 L_{3} \\sin{\\left(q_{3} \\right)} + 0.04 L_{C4} \\sin{\\left(q_{3} + q_{4} - \\theta \\right)} + 0.08 L_{c3} \\sin{\\left(q_{3} \\right)}\\right) & 0 & 0.04 L_{3} L_{C4} \\sin{\\left(q_{4} - \\theta \\right)}\\\\0 & - 0.04 L_{C4} \\left(L_{2} \\sin{\\left(q_{3} + q_{4} - \\theta \\right)} + L_{3} \\sin{\\left(q_{4} - \\theta \\right)}\\right) & - 0.04 L_{3} L_{C4} \\sin{\\left(q_{4} - \\theta \\right)} & 0\\end{matrix}\\right]$"
      ],
      "text/plain": [
       "Matrix([\n",
       "[-0.5*I_{2xx}*sin(2*q2) - I_{2xx}*sin(2*q2 + 2*q3)/2 + 0.5*I_{2yy}*sin(2*q2) + I_{2yy}*sin(2*q2 + 2*q3)/2 - I_{4xx}*sin(2*q2 + 2*q3 + 2*q4)/2 + I_{4yy}*sin(2*q2 + 2*q3 + 2*q4)/2 + 0.04*L_{c2}**2*sin(2*q2) + 0.08*(L2*sin(q2) + L_{c3}*sin(q2 + q3))*(L2*cos(q2) + L_{c3}*cos(q2 + q3))*sin(q1)**2 + 0.08*(L2*sin(q2) + L_{c3}*sin(q2 + q3))*(L2*cos(q2) + L_{c3}*cos(q2 + q3))*cos(q1)**2 + 0.04*(L2*sin(q2) + L3*sin(q2 + q3) + L_{C4}*sin(q2 + q3 + q4 - theta))*(L2*cos(q2) + L3*cos(q2 + q3) + L_{C4}*cos(q2 + q3 + q4 - theta))*sin(q1)**2 + 0.04*(L2*sin(q2) + L3*sin(q2 + q3) + L_{C4}*sin(q2 + q3 + q4 - theta))*(L2*cos(q2) + L3*cos(q2 + q3) + L_{C4}*cos(q2 + q3 + q4 - theta))*cos(q1)**2,                                                         -1.0*I_{2zz}*sin(4*q1),                                                        -1.0*I_{2zz}*sin(4*q1),                                                          0],\n",
       "[                                                                                                                                                                                                                                                                                                                                                                                                                                                                                                                                                                                                                                                                                  1.0*I_{2zz}*sin(4*q1),                                                                              0, L2*(0.04*L3*sin(q3) + 0.04*L_{C4}*sin(q3 + q4 - theta) + 0.08*L_{c3}*sin(q3)), 0.04*L_{C4}*(L2*sin(q3 + q4 - theta) + L3*sin(q4 - theta))],\n",
       "[                                                                                                                                                                                                                                                                                                                                                                                                                                                                                                                                                                                                                                                                                  1.0*I_{2zz}*sin(4*q1), -L2*(0.04*L3*sin(q3) + 0.04*L_{C4}*sin(q3 + q4 - theta) + 0.08*L_{c3}*sin(q3)),                                                                             0,                             0.04*L3*L_{C4}*sin(q4 - theta)],\n",
       "[                                                                                                                                                                                                                                                                                                                                                                                                                                                                                                                                                                                                                                                                                                      0,                    -0.04*L_{C4}*(L2*sin(q3 + q4 - theta) + L3*sin(q4 - theta)),                                               -0.04*L3*L_{C4}*sin(q4 - theta),                                                          0]])"
      ]
     },
     "execution_count": 35,
     "metadata": {},
     "output_type": "execute_result"
    }
   ],
   "source": [
    "C[1] = simplify(C[1])\n",
    "C[1]"
   ]
  },
  {
   "cell_type": "code",
   "execution_count": 36,
   "metadata": {},
   "outputs": [
    {
     "data": {
      "text/latex": [
       "$\\displaystyle \\left[\\begin{matrix}- \\frac{I_{2xx} \\sin{\\left(2 q_{2} + 2 q_{3} \\right)}}{2} + \\frac{I_{2yy} \\sin{\\left(2 q_{2} + 2 q_{3} \\right)}}{2} - \\frac{I_{4xx} \\sin{\\left(2 q_{2} + 2 q_{3} + 2 q_{4} \\right)}}{2} + \\frac{I_{4yy} \\sin{\\left(2 q_{2} + 2 q_{3} + 2 q_{4} \\right)}}{2} + 0.08 L_{c3} \\left(L_{2} \\sin{\\left(q_{2} \\right)} + L_{c3} \\sin{\\left(q_{2} + q_{3} \\right)}\\right) \\sin^{2}{\\left(q_{1} \\right)} \\cos{\\left(q_{2} + q_{3} \\right)} + 0.08 L_{c3} \\left(L_{2} \\sin{\\left(q_{2} \\right)} + L_{c3} \\sin{\\left(q_{2} + q_{3} \\right)}\\right) \\cos^{2}{\\left(q_{1} \\right)} \\cos{\\left(q_{2} + q_{3} \\right)} + 0.04 \\left(L_{3} \\cos{\\left(q_{2} + q_{3} \\right)} + L_{C4} \\cos{\\left(q_{2} + q_{3} + q_{4} - \\theta \\right)}\\right) \\left(L_{2} \\sin{\\left(q_{2} \\right)} + L_{3} \\sin{\\left(q_{2} + q_{3} \\right)} + L_{C4} \\sin{\\left(q_{2} + q_{3} + q_{4} - \\theta \\right)}\\right) \\sin^{2}{\\left(q_{1} \\right)} + 0.04 \\left(L_{3} \\cos{\\left(q_{2} + q_{3} \\right)} + L_{C4} \\cos{\\left(q_{2} + q_{3} + q_{4} - \\theta \\right)}\\right) \\left(L_{2} \\sin{\\left(q_{2} \\right)} + L_{3} \\sin{\\left(q_{2} + q_{3} \\right)} + L_{C4} \\sin{\\left(q_{2} + q_{3} + q_{4} - \\theta \\right)}\\right) \\cos^{2}{\\left(q_{1} \\right)} & - 1.0 I_{2zz} \\sin{\\left(4 q_{1} \\right)} & - 1.0 I_{2zz} \\sin{\\left(4 q_{1} \\right)} & 0\\\\1.0 I_{2zz} \\sin{\\left(4 q_{1} \\right)} & - L_{2} \\left(0.04 L_{3} \\sin{\\left(q_{3} \\right)} + 0.04 L_{C4} \\sin{\\left(q_{3} + q_{4} - \\theta \\right)} + 0.08 L_{c3} \\sin{\\left(q_{3} \\right)}\\right) & 0 & 0.04 L_{3} L_{C4} \\sin{\\left(q_{4} - \\theta \\right)}\\\\1.0 I_{2zz} \\sin{\\left(4 q_{1} \\right)} & - L_{2} \\left(0.04 L_{3} \\sin{\\left(q_{3} \\right)} + 0.04 L_{C4} \\sin{\\left(q_{3} + q_{4} - \\theta \\right)} + 0.08 L_{c3} \\sin{\\left(q_{3} \\right)}\\right) & 0 & 0.04 L_{3} L_{C4} \\sin{\\left(q_{4} - \\theta \\right)}\\\\0 & - 0.04 L_{C4} \\left(L_{2} \\sin{\\left(q_{3} + q_{4} - \\theta \\right)} + L_{3} \\sin{\\left(q_{4} - \\theta \\right)}\\right) & - 0.04 L_{3} L_{C4} \\sin{\\left(q_{4} - \\theta \\right)} & 0\\end{matrix}\\right]$"
      ],
      "text/plain": [
       "Matrix([\n",
       "[-I_{2xx}*sin(2*q2 + 2*q3)/2 + I_{2yy}*sin(2*q2 + 2*q3)/2 - I_{4xx}*sin(2*q2 + 2*q3 + 2*q4)/2 + I_{4yy}*sin(2*q2 + 2*q3 + 2*q4)/2 + 0.08*L_{c3}*(L2*sin(q2) + L_{c3}*sin(q2 + q3))*sin(q1)**2*cos(q2 + q3) + 0.08*L_{c3}*(L2*sin(q2) + L_{c3}*sin(q2 + q3))*cos(q1)**2*cos(q2 + q3) + 0.04*(L3*cos(q2 + q3) + L_{C4}*cos(q2 + q3 + q4 - theta))*(L2*sin(q2) + L3*sin(q2 + q3) + L_{C4}*sin(q2 + q3 + q4 - theta))*sin(q1)**2 + 0.04*(L3*cos(q2 + q3) + L_{C4}*cos(q2 + q3 + q4 - theta))*(L2*sin(q2) + L3*sin(q2 + q3) + L_{C4}*sin(q2 + q3 + q4 - theta))*cos(q1)**2,                                                         -1.0*I_{2zz}*sin(4*q1),          -1.0*I_{2zz}*sin(4*q1),                              0],\n",
       "[                                                                                                                                                                                                                                                                                                                                                                                                                                                                                                                                               1.0*I_{2zz}*sin(4*q1), -L2*(0.04*L3*sin(q3) + 0.04*L_{C4}*sin(q3 + q4 - theta) + 0.08*L_{c3}*sin(q3)),                               0, 0.04*L3*L_{C4}*sin(q4 - theta)],\n",
       "[                                                                                                                                                                                                                                                                                                                                                                                                                                                                                                                                               1.0*I_{2zz}*sin(4*q1), -L2*(0.04*L3*sin(q3) + 0.04*L_{C4}*sin(q3 + q4 - theta) + 0.08*L_{c3}*sin(q3)),                               0, 0.04*L3*L_{C4}*sin(q4 - theta)],\n",
       "[                                                                                                                                                                                                                                                                                                                                                                                                                                                                                                                                                                   0,                    -0.04*L_{C4}*(L2*sin(q3 + q4 - theta) + L3*sin(q4 - theta)), -0.04*L3*L_{C4}*sin(q4 - theta),                              0]])"
      ]
     },
     "execution_count": 36,
     "metadata": {},
     "output_type": "execute_result"
    }
   ],
   "source": [
    "C[2]= simplify(C[2])\n",
    "C[2]"
   ]
  },
  {
   "cell_type": "code",
   "execution_count": 37,
   "metadata": {},
   "outputs": [
    {
     "data": {
      "text/latex": [
       "$\\displaystyle \\left[\\begin{matrix}- \\frac{I_{4xx} \\sin{\\left(2 q_{2} + 2 q_{3} + 2 q_{4} \\right)}}{2} + \\frac{I_{4yy} \\sin{\\left(2 q_{2} + 2 q_{3} + 2 q_{4} \\right)}}{2} + 0.04 L_{C4} \\left(L_{2} \\sin{\\left(q_{2} \\right)} + L_{3} \\sin{\\left(q_{2} + q_{3} \\right)} + L_{C4} \\sin{\\left(q_{2} + q_{3} + q_{4} - \\theta \\right)}\\right) \\sin^{2}{\\left(q_{1} \\right)} \\cos{\\left(q_{2} + q_{3} + q_{4} - \\theta \\right)} + 0.04 L_{C4} \\left(L_{2} \\sin{\\left(q_{2} \\right)} + L_{3} \\sin{\\left(q_{2} + q_{3} \\right)} + L_{C4} \\sin{\\left(q_{2} + q_{3} + q_{4} - \\theta \\right)}\\right) \\cos^{2}{\\left(q_{1} \\right)} \\cos{\\left(q_{2} + q_{3} + q_{4} - \\theta \\right)} & 0 & 0 & 0\\\\0 & - 0.04 L_{C4} \\left(L_{2} \\sin{\\left(q_{3} + q_{4} - \\theta \\right)} + L_{3} \\sin{\\left(q_{4} - \\theta \\right)}\\right) & - 0.04 L_{3} L_{C4} \\sin{\\left(q_{4} - \\theta \\right)} & 0\\\\0 & - 0.04 L_{C4} \\left(L_{2} \\sin{\\left(q_{3} + q_{4} - \\theta \\right)} + L_{3} \\sin{\\left(q_{4} - \\theta \\right)}\\right) & - 0.04 L_{3} L_{C4} \\sin{\\left(q_{4} - \\theta \\right)} & 0\\\\0 & - 0.04 L_{C4} \\left(L_{2} \\sin{\\left(q_{3} + q_{4} - \\theta \\right)} + L_{3} \\sin{\\left(q_{4} - \\theta \\right)}\\right) & - 0.04 L_{3} L_{C4} \\sin{\\left(q_{4} - \\theta \\right)} & 0\\end{matrix}\\right]$"
      ],
      "text/plain": [
       "Matrix([\n",
       "[-I_{4xx}*sin(2*q2 + 2*q3 + 2*q4)/2 + I_{4yy}*sin(2*q2 + 2*q3 + 2*q4)/2 + 0.04*L_{C4}*(L2*sin(q2) + L3*sin(q2 + q3) + L_{C4}*sin(q2 + q3 + q4 - theta))*sin(q1)**2*cos(q2 + q3 + q4 - theta) + 0.04*L_{C4}*(L2*sin(q2) + L3*sin(q2 + q3) + L_{C4}*sin(q2 + q3 + q4 - theta))*cos(q1)**2*cos(q2 + q3 + q4 - theta),                                                           0,                               0, 0],\n",
       "[                                                                                                                                                                                                                                                                                                               0, -0.04*L_{C4}*(L2*sin(q3 + q4 - theta) + L3*sin(q4 - theta)), -0.04*L3*L_{C4}*sin(q4 - theta), 0],\n",
       "[                                                                                                                                                                                                                                                                                                               0, -0.04*L_{C4}*(L2*sin(q3 + q4 - theta) + L3*sin(q4 - theta)), -0.04*L3*L_{C4}*sin(q4 - theta), 0],\n",
       "[                                                                                                                                                                                                                                                                                                               0, -0.04*L_{C4}*(L2*sin(q3 + q4 - theta) + L3*sin(q4 - theta)), -0.04*L3*L_{C4}*sin(q4 - theta), 0]])"
      ]
     },
     "execution_count": 37,
     "metadata": {},
     "output_type": "execute_result"
    }
   ],
   "source": [
    "C[3] = simplify(C[3])\n",
    "C[3]"
   ]
  },
  {
   "cell_type": "markdown",
   "metadata": {},
   "source": [
    "# Evaluation and Plotting"
   ]
  },
  {
   "cell_type": "code",
   "execution_count": 38,
   "metadata": {},
   "outputs": [],
   "source": [
    "theta_value = np.atan(3/5)\n",
    "link4 = np.sqrt(0.015**2 + 0.025**2)"
   ]
  },
  {
   "cell_type": "code",
   "execution_count": 39,
   "metadata": {},
   "outputs": [
    {
     "data": {
      "text/plain": [
       "1.5625000000000004e-05"
      ]
     },
     "execution_count": 39,
     "metadata": {},
     "output_type": "execute_result"
    }
   ],
   "source": [
    "def inertia(m, z,y):\n",
    "    i = (m/12)* (z**2 + y**2)\n",
    "    return i\n",
    "\n",
    "I0 = inertia(0.060, 0.050, 0.025)\n",
    "I0"
   ]
  },
  {
   "cell_type": "code",
   "execution_count": 40,
   "metadata": {},
   "outputs": [],
   "source": [
    "\n",
    "def get_kwargs(q1_value, q2_value, q3_value, q4_value):\n",
    "    I0 = 1.5625000000000004e-05\n",
    "    kwargs = [\n",
    "        (q1, q1_value), \n",
    "        (q2, q2_value), \n",
    "        (q3, q3_value), \n",
    "        (q4, q4_value),\n",
    "        (theta, theta_value),\n",
    "        (l1, LINK1),\n",
    "        (l2, LINK2),\n",
    "        (l3, LINK3),\n",
    "        (l4, link4),\n",
    "        (lc1, LINK1_CM),\n",
    "        (lc2, LINK2_CM),\n",
    "        (lc3, LINK3_CM),\n",
    "        (lc4, link4),\n",
    "        (I1xx, 1*I0), \n",
    "        (I1yy, 0.4*I0), \n",
    "        (I1zz, 0.9*I0),\n",
    "        (I2xx, 0.45*I0), \n",
    "        (I2yy, 1.4*I0), \n",
    "        (I2zz, 1.2*I0),\n",
    "        (I3xx, 0.45*I0), \n",
    "        (I3yy, 1.4*I0), \n",
    "        (I3zz, 1.2*I0),\n",
    "        (I4xx, 0.5*I0), \n",
    "        (I4yy, 0.5*I0), \n",
    "        (I4zz, 0.5*I0),\n",
    "        ]\n",
    "    return kwargs"
   ]
  },
  {
   "cell_type": "code",
   "execution_count": 41,
   "metadata": {},
   "outputs": [],
   "source": [
    "def get_numpy_D(kwargs):\n",
    "    numpy_D = np.empty((4,4))\n",
    "    for i in range(4):\n",
    "        for j in range(4):\n",
    "            numpy_D[i,j] = D[i, j].subs(kwargs)\n",
    "    return numpy_D\n",
    "\n",
    "def get_numpy_C(kwargs,q_dot):\n",
    "    numpy_C = np.zeros((4,4))\n",
    "    for i in range(1):\n",
    "        for j in range(4):\n",
    "            for k in range(4):\n",
    "                numpy_C[k, j] += C[i][j,k].subs(kwargs)*q_dot[i]\n",
    "\n",
    "    return numpy_C\n",
    "\n",
    "def get_gravity_vector(f2, f3, f4, l2, l3, lc2, lc3, lc4, theta1, theta2, theta3, theta4, extra_theta_value):\n",
    "    g1 = 0\n",
    "    s2 = sin(theta2)\n",
    "    s23 = sin(theta2 + theta3)\n",
    "    s234 = sin( theta2 + theta3 + theta4 + extra_theta_value)\n",
    "    g2 = s2*lc2*f2 + (s2*l2 + s23*lc3)*f3 + (s2*l2 + s23*l3 + s234*lc4)*f4\n",
    "    g3 = s23*lc3*f3 + (s23*l3 + s234*lc4)*f4\n",
    "    g4 = s234*lc4*f4\n",
    "    return np.array((g1, g2, g3, g4))"
   ]
  },
  {
   "cell_type": "code",
   "execution_count": null,
   "metadata": {},
   "outputs": [
    {
     "name": "stderr",
     "output_type": "stream",
     "text": [
      "  0%|          | 0/50 [00:00<?, ?it/s]"
     ]
    },
    {
     "name": "stderr",
     "output_type": "stream",
     "text": [
      "100%|██████████| 50/50 [00:12<00:00,  4.03it/s]\n",
      "100%|██████████| 50/50 [00:12<00:00,  4.13it/s]\n",
      "100%|██████████| 50/50 [00:12<00:00,  4.13it/s]\n",
      "100%|██████████| 50/50 [00:11<00:00,  4.19it/s]\n"
     ]
    },
    {
     "data": {
      "text/plain": [
       "(200, 4)"
      ]
     },
     "execution_count": 44,
     "metadata": {},
     "output_type": "execute_result"
    }
   ],
   "source": [
    "F2 = 0.8\n",
    "F3 = F2\n",
    "F4 = 0.4\n",
    "\n",
    "import trajectory_planning\n",
    "from tqdm import tqdm\n",
    "torques = [\n",
    "    # [],\n",
    "    # [],\n",
    "    # [],\n",
    "    # []\n",
    "]\n",
    "lin_velocities = np.array(((0,0,0), (0,-0.027, 0), (0,0,-0.027), (0,0.027,0), (0,0,0)))\n",
    "matricies = trajectory_planning.circle_path(n_knots = 5, lin_velocities=lin_velocities)\n",
    "for matrix in matricies:\n",
    "    for t in tqdm(np.linspace(0, 2, 50)):\n",
    "        angles = matrix @ trajectory_planning.position_t_array(t)\n",
    "        angle_velocities = matrix @ trajectory_planning.velocity_t_array(t)\n",
    "        angle_accelerations = matrix @ trajectory_planning.acceleration_t_array(t)\n",
    "        kwargs = get_kwargs(*angles)\n",
    "        numpy_D = get_numpy_D(kwargs)\n",
    "        numpy_C = get_numpy_C(kwargs, angle_velocities)\n",
    "        g = get_gravity_vector(F2, F3, F4, LINK2, LINK3, LINK2_CM, LINK3_CM, link4, *angles, theta_value)\n",
    "        # for i in range(4):\n",
    "        torques.append(numpy_D @ angle_accelerations + numpy_C @ angle_velocities - g)\n",
    "        # print(torques)\n",
    "torques_np = np.array(torques)\n",
    "torques_np.shape\n",
    "        \n"
   ]
  },
  {
   "cell_type": "code",
   "execution_count": 45,
   "metadata": {},
   "outputs": [
    {
     "data": {
      "text/plain": [
       "([<matplotlib.axis.XTick at 0x1184c3940>,\n",
       "  <matplotlib.axis.XTick at 0x1185fdfc0>,\n",
       "  <matplotlib.axis.XTick at 0x111e23d30>,\n",
       "  <matplotlib.axis.XTick at 0x1189dd8d0>,\n",
       "  <matplotlib.axis.XTick at 0x1189de380>],\n",
       " [Text(0.0, 0, '0'),\n",
       "  Text(0.5, 0, '1/2$\\\\pi$'),\n",
       "  Text(1.0, 0, '$\\\\pi$'),\n",
       "  Text(1.5, 0, '3/2$\\\\pi$'),\n",
       "  Text(2.0, 0, '2$\\\\pi$')])"
      ]
     },
     "execution_count": 45,
     "metadata": {},
     "output_type": "execute_result"
    },
    {
     "data": {
      "image/png": "[encoded data removed]",
      "text/plain": [
       "<Figure size 640x480 with 1 Axes>"
      ]
     },
     "metadata": {},
     "output_type": "display_data"
    }
   ],
   "source": [
    "import fractions\n",
    "x = np.linspace(0, 2, 200)\n",
    "plt.plot(x, torques_np)\n",
    "plt.legend([\n",
    "    r'$\\tau_1$',\n",
    "    r'$\\tau_2$',\n",
    "    r'$\\tau_3$',\n",
    "    r'$\\tau_4$',\n",
    "])\n",
    "plt.ylabel('Torque (nM)')\n",
    "plt.xlabel(r'Phase of the circle $\\varphi$')\n",
    "# get_phis = lambda n:np.array([2*i*np.pi/(n-1) for i in range(torques_np.shape[0])])\n",
    "ticks = np.arange(0, 2.1, 0.5)\n",
    "pi_string = \"$\\pi$\"\n",
    "labels = [F'{fractions.Fraction(tick) if tick != 1 else \"\"}{pi_string if tick != 0 else \"\"}' for tick in ticks]\n",
    "plt.xticks(ticks = ticks, labels = labels)"
   ]
  }
 ],
 "metadata": {
  "kernelspec": {
   "display_name": ".venv",
   "language": "python",
   "name": "python3"
  },
  "language_info": {
   "codemirror_mode": {
    "name": "ipython",
    "version": 3
   },
   "file_extension": ".py",
   "mimetype": "text/x-python",
   "name": "python",
   "nbconvert_exporter": "python",
   "pygments_lexer": "ipython3",
   "version": "3.10.11"
  }
 },
 "nbformat": 4,
 "nbformat_minor": 2
}
